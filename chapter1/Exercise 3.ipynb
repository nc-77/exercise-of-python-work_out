{
 "cells": [
  {
   "cell_type": "markdown",
   "metadata": {},
   "source": [
    "Write a program that asks how long it took to run 10 km today. The program continues to ask how long (in minutes) it took for additional runs, until the user enters q. At that point, the program exits---but only after calculating and displaying the average time that the 10 km run took."
   ]
  },
  {
   "cell_type": "code",
   "execution_count": 4,
   "metadata": {},
   "outputs": [
    {
     "name": "stdout",
     "output_type": "stream",
     "text": [
      "Enter 10 km run time:15\n",
      "Enter 10 km run time:20\n",
      "Enter 10 km run time:10\n",
      "Enter 10 km run time:q\n",
      "average of 15.0,over 3 runs\n"
     ]
    }
   ],
   "source": [
    "sum_run=0\n",
    "sum_time=0\n",
    "while True:\n",
    "    time=input(\"Enter 10 km run time:\")\n",
    "    if(time=='q'):break\n",
    "    else:\n",
    "        sum_run+=1\n",
    "        sum_time+=float(time)\n",
    "print(f\"average of {sum_time/sum_run},over {sum_run} runs\")"
   ]
  },
  {
   "cell_type": "markdown",
   "metadata": {},
   "source": [
    "Write a function that takes a float and two integers (before and after). The function should return a float consisting of before digits before the decimal point and after digits after. Thus if we call the function with 1234.5678, 2 and 3, the return value should be 34.567."
   ]
  },
  {
   "cell_type": "code",
   "execution_count": 2,
   "metadata": {},
   "outputs": [
    {
     "name": "stdout",
     "output_type": "stream",
     "text": [
      "Enter a float digit：1234.5678\n",
      "Before:2\n",
      "After：3\n"
     ]
    },
    {
     "data": {
      "text/plain": [
       "34.56"
      ]
     },
     "execution_count": 2,
     "metadata": {},
     "output_type": "execute_result"
    }
   ],
   "source": [
    "def myfloat(float_num,left,right):\n",
    "    pos=float_num.find(\".\")\n",
    "    return float(float_num[pos-left:pos]+float_num[pos:pos+right])\n",
    "myfloat(input(\"Enter a float digit：\"),int(input(\"Before:\")),int(input(\"After：\")))"
   ]
  },
  {
   "cell_type": "code",
   "execution_count": null,
   "metadata": {},
   "outputs": [],
   "source": []
  }
 ],
 "metadata": {
  "kernelspec": {
   "display_name": "Python 3",
   "language": "python",
   "name": "python3"
  },
  "language_info": {
   "codemirror_mode": {
    "name": "ipython",
    "version": 3
   },
   "file_extension": ".py",
   "mimetype": "text/x-python",
   "name": "python",
   "nbconvert_exporter": "python",
   "pygments_lexer": "ipython3",
   "version": "3.6.10"
  }
 },
 "nbformat": 4,
 "nbformat_minor": 4
}

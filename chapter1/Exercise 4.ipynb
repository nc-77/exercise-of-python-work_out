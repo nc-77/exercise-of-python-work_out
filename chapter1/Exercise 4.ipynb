{
 "cells": [
  {
   "cell_type": "markdown",
   "metadata": {},
   "source": [
    "Re-implement the above program such that it doesn’t use the int function at all, but rather uses the builtin ord and chr functions to identify the character. This implementation should be more robust, ignoring characters that aren’t legal for the entered number base."
   ]
  },
  {
   "cell_type": "code",
   "execution_count": 9,
   "metadata": {},
   "outputs": [
    {
     "name": "stdout",
     "output_type": "stream",
     "text": [
      "Enter a hexnum123X\n"
     ]
    },
    {
     "data": {
      "text/plain": [
       "False"
      ]
     },
     "execution_count": 9,
     "metadata": {},
     "output_type": "execute_result"
    }
   ],
   "source": [
    "def hexout(hexnum):\n",
    "    number=0\n",
    "    for index,one_digit in enumerate(reversed(hexnum)):\n",
    "        if(one_digit>='1' and one_digit<='9' or one_digit>='A' and one_digit<='F'):\n",
    "            number+=(ord(one_digit)-ord('0'))*16**index\n",
    "        else :return False\n",
    "    return number\n",
    "hexnum=input(\"Enter a hexnum\")\n",
    "hexout(hexnum)"
   ]
  },
  {
   "cell_type": "markdown",
   "metadata": {},
   "source": [
    "Write a program that asks the user for their name, and then produces a \"name triangle\": The first letter of their name, then the first two letters, then the first three, and so forth, until the entire name is written on the final line."
   ]
  },
  {
   "cell_type": "code",
   "execution_count": 12,
   "metadata": {},
   "outputs": [
    {
     "name": "stdout",
     "output_type": "stream",
     "text": [
      "Enter a name:   \n"
     ]
    }
   ],
   "source": [
    "def nametri(name):\n",
    "    cnt=0\n",
    "    while(len(name)>cnt):\n",
    "        cnt+=1\n",
    "        print(name[:cnt])\n",
    "        name=name[cnt:]\n",
    "    if(name):print(name)\n",
    "name=input(\"Enter a name:\").strip()\n",
    "nametri(name)"
   ]
  },
  {
   "cell_type": "code",
   "execution_count": null,
   "metadata": {},
   "outputs": [],
   "source": []
  }
 ],
 "metadata": {
  "kernelspec": {
   "display_name": "Python 3",
   "language": "python",
   "name": "python3"
  },
  "language_info": {
   "codemirror_mode": {
    "name": "ipython",
    "version": 3
   },
   "file_extension": ".py",
   "mimetype": "text/x-python",
   "name": "python",
   "nbconvert_exporter": "python",
   "pygments_lexer": "ipython3",
   "version": "3.6.10"
  }
 },
 "nbformat": 4,
 "nbformat_minor": 4
}

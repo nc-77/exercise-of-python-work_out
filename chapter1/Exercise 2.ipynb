{
 "cells": [
  {
   "cell_type": "markdown",
   "metadata": {},
   "source": [
    "The builtin version of sum takes an optional second argument, which is used as the starting point for the summing. (That’s why it takes a list of numbers as its first argument, unlike our mysum implementation.) So sum([1,2,3], 4) returns 10, because 1+2+3 is 6, and would be added to the starting value of 4. Re-implement your mysum function such that it works in this way. If a second argument is not provided, then it should default to 0. Note that while you can write a function in Python 3 that defines a parameter after *args, I’d suggest avoiding it, just taking two arguments — a list and an optional starting point."
   ]
  },
  {
   "cell_type": "code",
   "execution_count": null,
   "metadata": {},
   "outputs": [],
   "source": [
    "def mysum(numbers,start_point=0):\n",
    "    for number in numbers:\n",
    "        start_point+=number\n",
    "    return start_point\n",
    "print(mysum([1,2,3],4))"
   ]
  },
  {
   "cell_type": "markdown",
   "metadata": {},
   "source": [
    "Write a function that takes a list of numbers. It should return the average (i.e., arithmetic mean) of those numbers."
   ]
  },
  {
   "cell_type": "code",
   "execution_count": 2,
   "metadata": {},
   "outputs": [
    {
     "name": "stdout",
     "output_type": "stream",
     "text": [
      "2.0\n"
     ]
    }
   ],
   "source": [
    "def myave(numbers):\n",
    "    return sum(numbers)/len(numbers)\n",
    "print(myave([1,2,3]))"
   ]
  },
  {
   "cell_type": "markdown",
   "metadata": {},
   "source": [
    "Write a function that takes a list of words (strings). It should return a tuple containing three integers, representing the length of the shortest word, the length of the longest word, and the average word length."
   ]
  },
  {
   "cell_type": "code",
   "execution_count": 12,
   "metadata": {},
   "outputs": [
    {
     "name": "stdout",
     "output_type": "stream",
     "text": [
      "(4, 5, 4.333333333333333)\n"
     ]
    }
   ],
   "source": [
    "def choose_string(strings):\n",
    "    len_word=[]\n",
    "    sum_len=0\n",
    "    for s in strings:\n",
    "        len_word.append([len(s),s])\n",
    "        sum_len+=len(s)\n",
    "    short_word=sorted(len_word)\n",
    "    ave_len=sum_len/len(strings)\n",
    "    return short_word[0][0],short_word[-1][0],ave_len\n",
    "stest=['mike','apple','ipad']\n",
    "print(choose_string(stest))"
   ]
  },
  {
   "cell_type": "markdown",
   "metadata": {},
   "source": [
    "Write a function that takes a list of Python objects. Sum the objects that either are integers or can be turned into integers, ignoring the others."
   ]
  },
  {
   "cell_type": "code",
   "execution_count": 9,
   "metadata": {},
   "outputs": [
    {
     "name": "stdout",
     "output_type": "stream",
     "text": [
      "133\n"
     ]
    }
   ],
   "source": [
    "def int_sum(numbers):\n",
    "    sum=0\n",
    "    for number in numbers:\n",
    "        try:\n",
    "            number=int(number)\n",
    "        except:\n",
    "            continue\n",
    "        else:\n",
    "            sum+=number\n",
    "    return sum\n",
    "int_test=[10,'123','#','mike']\n",
    "print(int_sum(int_test))"
   ]
  },
  {
   "cell_type": "code",
   "execution_count": null,
   "metadata": {},
   "outputs": [],
   "source": []
  }
 ],
 "metadata": {
  "kernelspec": {
   "display_name": "Python 3",
   "language": "python",
   "name": "python3"
  },
  "language_info": {
   "codemirror_mode": {
    "name": "ipython",
    "version": 3
   },
   "file_extension": ".py",
   "mimetype": "text/x-python",
   "name": "python",
   "nbconvert_exporter": "python",
   "pygments_lexer": "ipython3",
   "version": "3.6.10"
  }
 },
 "nbformat": 4,
 "nbformat_minor": 4
}

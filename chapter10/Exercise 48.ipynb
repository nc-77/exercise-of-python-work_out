{
 "cells": [
  {
   "cell_type": "markdown",
   "metadata": {},
   "source": [
    "In this exercise, I’d like you to create just such an iterator, using a generator func-tion. That is, this generator function will take a directory name as an argument. Witheach iteration, the generator should return a single string, representing one line fromone file in that directory. Thus, if the directory contains five files, and each file con-tains 10 lines, the generator will return a total of 50 strings—each of the lines from file0, then each of the lines from file 1, then each of the lines from file 2, until it getsthrough all of the lines from file 4."
   ]
  },
  {
   "cell_type": "code",
   "execution_count": 17,
   "metadata": {},
   "outputs": [
    {
     "name": "stdout",
     "output_type": "stream",
     "text": [
      "hello world\n",
      "this is the first test.\n",
      "hello world\n",
      "this is the second test.\n",
      "hello world\n",
      "this is the third test.\n"
     ]
    }
   ],
   "source": [
    "import os\n",
    "def all_lines(dirname):\n",
    "    for filename in os.listdir(dirname):\n",
    "        full_filename=os.path.join(dirname,filename)\n",
    "        try:\n",
    "            with open(full_filename) as f: \n",
    "                for one_line in f: \n",
    "                    yield one_line.strip()\n",
    "        except OSError:\n",
    "            pass\n",
    "for one_line in all_lines('test/'):\n",
    "    print(one_line)"
   ]
  }
 ],
 "metadata": {
  "kernelspec": {
   "display_name": "Python 3",
   "language": "python",
   "name": "python3"
  },
  "language_info": {
   "codemirror_mode": {
    "name": "ipython",
    "version": 3
   },
   "file_extension": ".py",
   "mimetype": "text/x-python",
   "name": "python",
   "nbconvert_exporter": "python",
   "pygments_lexer": "ipython3",
   "version": "3.6.10"
  }
 },
 "nbformat": 4,
 "nbformat_minor": 4
}

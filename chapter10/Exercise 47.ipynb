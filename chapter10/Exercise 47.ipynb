{
 "cells": [
  {
   "cell_type": "code",
   "execution_count": 13,
   "metadata": {},
   "outputs": [
    {
     "name": "stdout",
     "output_type": "stream",
     "text": [
      "['a', 'b', 'c', 'a', 'b']\n"
     ]
    }
   ],
   "source": [
    "class CircleIterator:\n",
    "    def __init__(self,data,maxsize):\n",
    "        self.data=data\n",
    "        self.maxsize=maxsize\n",
    "        self.index=0\n",
    "    def __next__(self):\n",
    "        if(self.index>=self.maxsize):\n",
    "            raise StopIteration\n",
    "        value=self.data[self.index%len(self.data)]\n",
    "        self.index+=1\n",
    "        return value\n",
    "            \n",
    "class Circle:\n",
    "    def __init__(self,data,maxsize):\n",
    "        self.data=data\n",
    "        self.maxsize=maxsize\n",
    "    def __iter__(self):\n",
    "        return CircleIterator(self.data,self.maxsize)\n",
    "c = Circle('abc', 5)\n",
    "print(list(c))"
   ]
  }
 ],
 "metadata": {
  "kernelspec": {
   "display_name": "Python 3",
   "language": "python",
   "name": "python3"
  },
  "language_info": {
   "codemirror_mode": {
    "name": "ipython",
    "version": 3
   },
   "file_extension": ".py",
   "mimetype": "text/x-python",
   "name": "python",
   "nbconvert_exporter": "python",
   "pygments_lexer": "ipython3",
   "version": "3.6.10"
  }
 },
 "nbformat": 4,
 "nbformat_minor": 4
}

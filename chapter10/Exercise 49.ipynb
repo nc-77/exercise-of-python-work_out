{
 "cells": [
  {
   "cell_type": "markdown",
   "metadata": {},
   "source": [
    " In this exercise, write a generator function whose argument must be iterable. Witheach iteration, the generator will return a two-element tuple. The first element in thetuple will be an integer indicating how many seconds have passed since the previousiteration. The tuple’s second element will be the next item from the passed argument."
   ]
  },
  {
   "cell_type": "code",
   "execution_count": 8,
   "metadata": {},
   "outputs": [
    {
     "name": "stdout",
     "output_type": "stream",
     "text": [
      "(1.9999998812636477e-07, 'a')\n",
      "(1.9998794999999632, 'b')\n",
      "(2.000489400000049, 'c')\n",
      "(2.001128699999981, 'd')\n"
     ]
    }
   ],
   "source": [
    "import time\n",
    "def elapsed_since(data):\n",
    "    Last_time=None\n",
    "    for item in data:\n",
    "        cur_time=time.perf_counter()\n",
    "        time_delta=time.perf_counter()-(Last_time or cur_time)\n",
    "        value=(time_delta,item) \n",
    "        yield value\n",
    "        Last_time=cur_time\n",
    "for t in elapsed_since('abcd'):\n",
    "    print(t)\n",
    "    time.sleep(2)"
   ]
  }
 ],
 "metadata": {
  "kernelspec": {
   "display_name": "Python 3",
   "language": "python",
   "name": "python3"
  },
  "language_info": {
   "codemirror_mode": {
    "name": "ipython",
    "version": 3
   },
   "file_extension": ".py",
   "mimetype": "text/x-python",
   "name": "python",
   "nbconvert_exporter": "python",
   "pygments_lexer": "ipython3",
   "version": "3.6.10"
  }
 },
 "nbformat": 4,
 "nbformat_minor": 4
}

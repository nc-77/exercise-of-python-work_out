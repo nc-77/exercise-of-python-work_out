{
 "cells": [
  {
   "cell_type": "markdown",
   "metadata": {},
   "source": [
    "For this exercise, that’s precisely what you should do: implement a generator functioncalled mychain that takes any number of arguments, each of which is an iterable. Witheach iteration, it should return the next element from the current iterable, or the firstelement  from  the  subsequent  iterable—unless  you’re  at  the  end,  in  which  case  itshould exit."
   ]
  },
  {
   "cell_type": "code",
   "execution_count": 3,
   "metadata": {},
   "outputs": [
    {
     "name": "stdout",
     "output_type": "stream",
     "text": [
      "a\n",
      "b\n",
      "c\n",
      "1\n",
      "2\n",
      "3\n",
      "a\n",
      "b\n"
     ]
    }
   ],
   "source": [
    "def mychain(*items):\n",
    "    for item in items:\n",
    "        for it in item:\n",
    "            yield it\n",
    "for one_item in mychain('abc',[1,2,3],{'a':1,'b':2}):\n",
    "    print(one_item)"
   ]
  }
 ],
 "metadata": {
  "kernelspec": {
   "display_name": "Python 3",
   "language": "python",
   "name": "python3"
  },
  "language_info": {
   "codemirror_mode": {
    "name": "ipython",
    "version": 3
   },
   "file_extension": ".py",
   "mimetype": "text/x-python",
   "name": "python",
   "nbconvert_exporter": "python",
   "pygments_lexer": "ipython3",
   "version": "3.6.10"
  }
 },
 "nbformat": 4,
 "nbformat_minor": 4
}

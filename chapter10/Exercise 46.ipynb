{
 "cells": [
  {
   "cell_type": "markdown",
   "metadata": {},
   "source": [
    "Create your own MyEnumerate class, such that someone can use it instead of enumer-ate.  It  will  need  to  return  a  tuple  with  each  iteration,  with  the  first  element  in  thetuple being the index (starting with 0) and the second element being the current ele-ment from the underlying data structure. Trying to use MyEnumerate with a noniter-able argument will result in an error."
   ]
  },
  {
   "cell_type": "code",
   "execution_count": 23,
   "metadata": {},
   "outputs": [
    {
     "name": "stdout",
     "output_type": "stream",
     "text": [
      "0: a\n",
      "1: b\n",
      "2: c\n"
     ]
    }
   ],
   "source": [
    "class MyEnumerate:\n",
    "    def __init__(self,data):\n",
    "        self.data=data\n",
    "        self.index=0\n",
    "    def __iter__(self):\n",
    "        return self\n",
    "    def __next__(self):\n",
    "        if(self.index>=len(self.data)):\n",
    "            raise StopIteration\n",
    "        else:\n",
    "            value=(self.index,self.data[self.index])\n",
    "            self.index+=1\n",
    "            return value\n",
    "for index,letter in MyEnumerate('abc'):\n",
    "    print(f'{index}: {letter}')"
   ]
  }
 ],
 "metadata": {
  "kernelspec": {
   "display_name": "Python 3",
   "language": "python",
   "name": "python3"
  },
  "language_info": {
   "codemirror_mode": {
    "name": "ipython",
    "version": 3
   },
   "file_extension": ".py",
   "mimetype": "text/x-python",
   "name": "python",
   "nbconvert_exporter": "python",
   "pygments_lexer": "ipython3",
   "version": "3.6.10"
  }
 },
 "nbformat": 4,
 "nbformat_minor": 4
}

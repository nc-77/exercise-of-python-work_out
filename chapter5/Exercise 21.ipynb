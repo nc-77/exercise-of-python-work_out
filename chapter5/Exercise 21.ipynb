{
 "cells": [
  {
   "cell_type": "code",
   "execution_count": 36,
   "metadata": {},
   "outputs": [
    {
     "data": {
      "text/plain": [
       "{'1342-0.txt': b'http://www.gutenberg.org/1/3/4/1342/',\n",
       " '2701-0.txt': b'matches?\\xe2\\x80\\x94tinder?\\xe2\\x80\\x94gunpowder?\\xe2\\x80\\x94what',\n",
       " '43-0.txt': b'http://www.gutenberg.org/4/43/',\n",
       " '46-0.txt': b'http://www.gutenberg.net/4/46/',\n",
       " '61105-0.txt': b'http://www.gutenberg.org/6/1/1/0/61105/',\n",
       " '84-0.txt': b'http://www.gutenberg.org/8/84/',\n",
       " 'pg25525.txt': b'http://www.gutenberg.org/2/5/5/2/25525/',\n",
       " 'pg28860.txt': b'http://www.gutenberg.org/2/8/8/6/28860/',\n",
       " 'pg345.txt': b'two-pages-to-the-week-with-Sunday-squeezed-in-a-corner',\n",
       " 'pg514.txt': b'_________________________________________________'}"
      ]
     },
     "execution_count": 36,
     "metadata": {},
     "output_type": "execute_result"
    }
   ],
   "source": [
    "import os\n",
    "def find_longest_word(filename):\n",
    "    longest_word=''\n",
    "    with open(filename,'rb') as f:\n",
    "        for one_line in f: \n",
    "            for one_word in one_line.split():\n",
    "                if(len(one_word)>len(longest_word)):\n",
    "                    longest_word=one_word\n",
    "    return longest_word\n",
    "def find_all_longest_word(dirname):\n",
    "    output={}\n",
    "    for file in os.listdir(dirname):\n",
    "        if os.path.isfile(os.path.join(dirname,file)):\n",
    "            output[file]=find_longest_word(os.path.join(dirname,file))\n",
    "    return output\n",
    "find_all_longest_word('books/')"
   ]
  }
 ],
 "metadata": {
  "kernelspec": {
   "display_name": "Python 3",
   "language": "python",
   "name": "python3"
  },
  "language_info": {
   "codemirror_mode": {
    "name": "ipython",
    "version": 3
   },
   "file_extension": ".py",
   "mimetype": "text/x-python",
   "name": "python",
   "nbconvert_exporter": "python",
   "pygments_lexer": "ipython3",
   "version": "3.6.10"
  }
 },
 "nbformat": 4,
 "nbformat_minor": 4
}

{
 "cells": [
  {
   "cell_type": "markdown",
   "metadata": {},
   "source": [
    "create  a  function, passwd_to_csv,  that  takes  two  filenames  asarguments: the first is a passwd-style file to read from, and the second is the name of afile in which to write the output. The  new  file’s  contents  are  the  username  (index  0)  and  the  user  ID  (index  2).Note that a record may contain a comment, in which case it will not have anything atindex 2; you should take that into consideration when writing the file. The output fileshould use TAB characters to separate the elements."
   ]
  },
  {
   "cell_type": "code",
   "execution_count": 32,
   "metadata": {},
   "outputs": [],
   "source": [
    "import csv\n",
    "def passwd_to_csv(passwd_filename,csv_filename):\n",
    "    with open(passwd_filename,'r') as passwd,open(csv_filename,'w',newline='') as output:\n",
    "        infile=csv.reader(passwd,delimiter=':')\n",
    "        outfile=csv.writer(output,delimiter='\\t')\n",
    "        for record in infile:\n",
    "            if(not record[0].startswith('#')):\n",
    "                outfile.writerow([record[0],record[2]])\n",
    "passwd_to_csv('passwd.txt','output.csv')"
   ]
  },
  {
   "cell_type": "markdown",
   "metadata": {},
   "source": [
    "Write a function that writes a dict to a CSV file. Each line in the CSV file shouldcontain three fields: (1) the key, which we’ll assume to be a string, (2) the value,and (3) the type of the value (e.g., str or int)."
   ]
  },
  {
   "cell_type": "code",
   "execution_count": 43,
   "metadata": {},
   "outputs": [],
   "source": [
    "import csv\n",
    "csv_dict={\"mike\":1,\"apple\":'2',\"ipad\":3}\n",
    "def dic_to_csv(csv_filename,csv_dict):\n",
    "    with open(csv_filename,'w',newline='') as output: \n",
    "        outfile=csv.writer(output,delimiter='\\t')\n",
    "        for key,value in csv_dict.items():\n",
    "            outfile.writerow([key,value,type(value)])\n",
    "dic_to_csv(\"dic_to_csv.csv\",csv_dict)"
   ]
  },
  {
   "cell_type": "markdown",
   "metadata": {},
   "source": [
    "Create a CSV file, in which each line contains 10 random integers between 10and 100. Now read the file back, and print the sum and mean of the numberson each line. "
   ]
  },
  {
   "cell_type": "code",
   "execution_count": 54,
   "metadata": {},
   "outputs": [
    {
     "data": {
      "text/plain": [
       "[[545, 54.5],\n",
       " [468, 46.8],\n",
       " [487, 48.7],\n",
       " [633, 63.3],\n",
       " [510, 51.0],\n",
       " [512, 51.2],\n",
       " [710, 71.0],\n",
       " [621, 62.1],\n",
       " [575, 57.5],\n",
       " [488, 48.8]]"
      ]
     },
     "execution_count": 54,
     "metadata": {},
     "output_type": "execute_result"
    }
   ],
   "source": [
    "import csv\n",
    "import random\n",
    "def create_rand(csv_filename):\n",
    "    with open(csv_filename,'w',newline='') as output:\n",
    "        outfile=csv.writer(output)\n",
    "        for i in range(10):\n",
    "            rand_list=[random.randint(10,100) for i in range(10)]\n",
    "            outfile.writerow(rand_list)\n",
    "def read_rand(csv_filename):\n",
    "    output=[]\n",
    "    with open(csv_filename,'r') as file: \n",
    "        infile=csv.reader(file)\n",
    "        for row in infile:\n",
    "            sum_row=sum([int(x) for x in row])\n",
    "            output.append([sum_row,sum_row/len(row)])\n",
    "    return output\n",
    "file_name=\"rand.csv\"\n",
    "create_rand(file_name)\n",
    "read_rand(file_name)"
   ]
  }
 ],
 "metadata": {
  "kernelspec": {
   "display_name": "Python 3",
   "language": "python",
   "name": "python3"
  },
  "language_info": {
   "codemirror_mode": {
    "name": "ipython",
    "version": 3
   },
   "file_extension": ".py",
   "mimetype": "text/x-python",
   "name": "python",
   "nbconvert_exporter": "python",
   "pygments_lexer": "ipython3",
   "version": "3.6.10"
  }
 },
 "nbformat": 4,
 "nbformat_minor": 4
}

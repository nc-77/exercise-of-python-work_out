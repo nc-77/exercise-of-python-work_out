{
 "cells": [
  {
   "cell_type": "markdown",
   "metadata": {},
   "source": [
    "write  a  function  (get_final_line)  that  takes  a  filename  as  anargument. The function should return that file’s final line on the screen."
   ]
  },
  {
   "cell_type": "code",
   "execution_count": 13,
   "metadata": {},
   "outputs": [
    {
     "name": "stdout",
     "output_type": "stream",
     "text": [
      "    4  dw2qd \n"
     ]
    }
   ],
   "source": [
    "with open(\"test1.txt\",'r')as f:\n",
    "    for current_line in f:\n",
    "        pass\n",
    "    print(current_line)"
   ]
  },
  {
   "cell_type": "markdown",
   "metadata": {},
   "source": [
    "Iterate  over  the  lines  of  a  text  file.  Find  all  of  the  words  (i.e.,  non-whitespacesurrounded by whitespace) that contain only integers, and sum them."
   ]
  },
  {
   "cell_type": "code",
   "execution_count": 27,
   "metadata": {},
   "outputs": [
    {
     "data": {
      "text/plain": [
       "['1', '3', '2', '456', '3', '1', '4', '2']"
      ]
     },
     "execution_count": 27,
     "metadata": {},
     "output_type": "execute_result"
    }
   ],
   "source": [
    "import re\n",
    "def get_file_number(filename):\n",
    "    numlist=[]\n",
    "    for current_line in open(filename,'r'):\n",
    "        numlist.extend(re.findall(r\"\\d+\",current_line))\n",
    "    return numlist\n",
    "get_file_number(\"test1.txt\")"
   ]
  },
  {
   "cell_type": "markdown",
   "metadata": {},
   "source": [
    "Create a text file (using an editor, not necessarily Python) containing two tab-separated columns, with each column containing a number. Then use Pythonto read through the file you’ve created. For each line, multiply each first num-ber by the second, and then sum the results from all the lines. Ignore any linethat doesn’t contain two numeric columns."
   ]
  },
  {
   "cell_type": "code",
   "execution_count": 34,
   "metadata": {},
   "outputs": [
    {
     "name": "stdout",
     "output_type": "stream",
     "text": [
      "1 2\n",
      "2 3\n",
      "3 4\n",
      "4 5\n",
      "5 6\n"
     ]
    },
    {
     "data": {
      "text/plain": [
       "70"
      ]
     },
     "execution_count": 34,
     "metadata": {},
     "output_type": "execute_result"
    }
   ],
   "source": [
    "def get_file_num(filename):\n",
    "    num_list=[]\n",
    "    for cur_line in open(filename,'r'):\n",
    "        x,y=cur_line.split(\"\\t\")\n",
    "        print(int(x),int(y))\n",
    "        num_list.append(int(x)*int(y))\n",
    "    return sum(num_list)\n",
    "get_file_num(\"test2.txt\")"
   ]
  },
  {
   "cell_type": "markdown",
   "metadata": {},
   "source": [
    "Read through a text file, line by line. Use a dict to keep track of how many timeseach vowel (a, e, i, o, and u) appears in the file. Print the resulting tabulation. "
   ]
  },
  {
   "cell_type": "code",
   "execution_count": 36,
   "metadata": {},
   "outputs": [
    {
     "data": {
      "text/plain": [
       "{'a': 6, 'e': 6, 'i': 4, 'o': 2, 'u': 1}"
      ]
     },
     "execution_count": 36,
     "metadata": {},
     "output_type": "execute_result"
    }
   ],
   "source": [
    "def get_file_vowel(filename):\n",
    "    dic_vowel={}\n",
    "    for cur_line in open(filename,'r'):\n",
    "        for vowel in \"aeiou\":\n",
    "            dic_vowel[vowel]=dic_vowel.get(vowel,0)+cur_line.count(vowel)\n",
    "    return dic_vowel\n",
    "get_file_vowel(\"test3.txt\")"
   ]
  }
 ],
 "metadata": {
  "kernelspec": {
   "display_name": "Python 3",
   "language": "python",
   "name": "python3"
  },
  "language_info": {
   "codemirror_mode": {
    "name": "ipython",
    "version": 3
   },
   "file_extension": ".py",
   "mimetype": "text/x-python",
   "name": "python",
   "nbconvert_exporter": "python",
   "pygments_lexer": "ipython3",
   "version": "3.6.10"
  }
 },
 "nbformat": 4,
 "nbformat_minor": 4
}

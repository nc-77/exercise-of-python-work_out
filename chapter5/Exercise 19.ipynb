{
 "cells": [
  {
   "cell_type": "markdown",
   "metadata": {},
   "source": [
    " In  this  exercise,  write  a  function, passwd_to_dict,  that  reads  from  a  Unix-style“password  file,”  commonly  stored  as /etc/passwd,  and  returns  a  dict  based  on  it. "
   ]
  },
  {
   "cell_type": "code",
   "execution_count": 1,
   "metadata": {},
   "outputs": [
    {
     "data": {
      "text/plain": [
       "{'nobody': '-2',\n",
       " 'root': '0',\n",
       " 'daemon': '1',\n",
       " '_uucp': '4',\n",
       " '_taskgated': '13',\n",
       " '_networkd': '24',\n",
       " '_installassistant': '25',\n",
       " '_lp': '26',\n",
       " '_postfix': '27',\n",
       " '_scsd': '31',\n",
       " '_ces': '32',\n",
       " '_mcxalr': '54',\n",
       " '_appleevents': '55',\n",
       " '_geod': '56',\n",
       " '_serialnumberd': '58',\n",
       " '_devdocs': '59',\n",
       " '_sandbox': '60',\n",
       " '_mdnsresponder': '65',\n",
       " '_ard': '67',\n",
       " '_www': '70',\n",
       " '_eppc': '71',\n",
       " '_cvs': '72',\n",
       " '_svn': '73',\n",
       " '_mysql': '74',\n",
       " '_sshd': '75',\n",
       " '_qtss': '76',\n",
       " '_cyrus': '77',\n",
       " '_mailman': '78',\n",
       " '_appserver': '79',\n",
       " '_clamav': '82',\n",
       " '_amavisd': '83',\n",
       " '_jabber': '84',\n",
       " '_appowner': '87',\n",
       " '_windowserver': '88',\n",
       " '_spotlight': '89',\n",
       " '_tokend': '91',\n",
       " '_securityagent': '92',\n",
       " '_calendar': '93',\n",
       " '_teamsserver': '94',\n",
       " '_update_sharing': '95',\n",
       " '_installer': '96',\n",
       " '_atsserver': '97',\n",
       " '_ftp': '98',\n",
       " '_unknown': '99',\n",
       " '_softwareupdate': '200',\n",
       " '_coreaudiod': '202',\n",
       " '_screensaver': '203',\n",
       " '_locationd': '205',\n",
       " '_trustevaluationagent': '208',\n",
       " '_timezone': '210',\n",
       " '_lda': '211',\n",
       " '_cvmsroot': '212',\n",
       " '_usbmuxd': '213',\n",
       " '_dovecot': '214',\n",
       " '_dpaudio': '215',\n",
       " '_postgres': '216',\n",
       " '_krbtgt': '217',\n",
       " '_kadmin_admin': '218',\n",
       " '_kadmin_changepw': '219',\n",
       " '_devicemgr': '220',\n",
       " '_webauthserver': '221',\n",
       " '_netbios': '222',\n",
       " '_warmd': '224',\n",
       " '_dovenull': '227',\n",
       " '_netstatistics': '228',\n",
       " '_avbdeviced': '229',\n",
       " '_krb_krbtgt': '230',\n",
       " '_krb_kadmin': '231',\n",
       " '_krb_changepw': '232',\n",
       " '_krb_kerberos': '233',\n",
       " '_krb_anonymous': '234',\n",
       " '_assetcache': '235',\n",
       " '_coremediaiod': '236',\n",
       " '_xcsbuildagent': '237',\n",
       " '_xcscredserver': '238',\n",
       " '_launchservicesd': '239'}"
      ]
     },
     "execution_count": 1,
     "metadata": {},
     "output_type": "execute_result"
    }
   ],
   "source": [
    "def passwd_to_dict(filename):\n",
    "    dict={}\n",
    "    with open(filename,'r') as f:\n",
    "        for cur_line in f:\n",
    "            if(not cur_line.startswith(\"#\")):\n",
    "                user_info=cur_line.split(':')\n",
    "                dict[user_info[0]]=user_info[2]\n",
    "    return dict\n",
    "passwd_to_dict(\"passwd.txt\")"
   ]
  }
 ],
 "metadata": {
  "kernelspec": {
   "display_name": "Python 3",
   "language": "python",
   "name": "python3"
  },
  "language_info": {
   "codemirror_mode": {
    "name": "ipython",
    "version": 3
   },
   "file_extension": ".py",
   "mimetype": "text/x-python",
   "name": "python",
   "nbconvert_exporter": "python",
   "pygments_lexer": "ipython3",
   "version": "3.6.10"
  }
 },
 "nbformat": 4,
 "nbformat_minor": 4
}

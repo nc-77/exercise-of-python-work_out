{
 "cells": [
  {
   "cell_type": "markdown",
   "metadata": {},
   "source": [
    "The function takes two arguments: the names of the input file (to be read from) and the output file (which will be created). \n",
    "\n",
    "For example, if a file looks like<br>abc def<br>ghi jkl<br>then the output file will be<br>fed cba<br>lkj ihg\n",
    "\n",
    "Notice that the newline remains at the end of the string, while the rest of the charac-ters are all reversed. "
   ]
  },
  {
   "cell_type": "code",
   "execution_count": 12,
   "metadata": {},
   "outputs": [],
   "source": [
    "def reverse_lines(in_filename,out_filename):\n",
    "    with open(in_filename,'r')as inf,open(out_filename,'w')as outf:\n",
    "        for one_line in inf:\n",
    "            outf.write(f'{one_line[::-1].strip()}\\n')\n",
    "reverse_lines(\"resever_in.txt\",\"resever_out.txt\")"
   ]
  },
  {
   "cell_type": "markdown",
   "metadata": {},
   "source": [
    "The final field in /etc/passwd is the shell, the Unix command interpreter that’sinvoked  when  a  user  logs  in.  Create  a  file,  containing  one  line  per  shell,  inwhich the shell’s name is written, followed by all of the usernames that use theshell; \n",
    "\n",
    "for example:<br>/bin/bash:root, jci, user, reuven, atara<br>/bin/sh:spamd, gitlab"
   ]
  },
  {
   "cell_type": "code",
   "execution_count": 43,
   "metadata": {},
   "outputs": [
    {
     "data": {
      "text/plain": [
       "defaultdict(list,\n",
       "            {'/var/empty:/usr/bin/false': ['nobody',\n",
       "              '_taskgated',\n",
       "              '_installassistant',\n",
       "              '_scsd',\n",
       "              '_ces',\n",
       "              '_mcxalr',\n",
       "              '_appleevents',\n",
       "              '_serialnumberd',\n",
       "              '_devdocs',\n",
       "              '_sandbox',\n",
       "              '_mdnsresponder',\n",
       "              '_ard',\n",
       "              '_eppc',\n",
       "              '_cvs',\n",
       "              '_svn',\n",
       "              '_mysql',\n",
       "              '_sshd',\n",
       "              '_qtss',\n",
       "              '_mailman',\n",
       "              '_appserver',\n",
       "              '_jabber',\n",
       "              '_appowner',\n",
       "              '_windowserver',\n",
       "              '_spotlight',\n",
       "              '_tokend',\n",
       "              '_securityagent',\n",
       "              '_calendar',\n",
       "              '_update_sharing',\n",
       "              '_installer',\n",
       "              '_atsserver',\n",
       "              '_ftp',\n",
       "              '_unknown',\n",
       "              '_softwareupdate',\n",
       "              '_coreaudiod',\n",
       "              '_screensaver',\n",
       "              '_trustevaluationagent',\n",
       "              '_timezone',\n",
       "              '_lda',\n",
       "              '_cvmsroot',\n",
       "              '_dovecot',\n",
       "              '_dpaudio',\n",
       "              '_postgres',\n",
       "              '_krbtgt',\n",
       "              '_kadmin_admin',\n",
       "              '_kadmin_changepw',\n",
       "              '_devicemgr',\n",
       "              '_webauthserver',\n",
       "              '_netbios',\n",
       "              '_warmd',\n",
       "              '_dovenull',\n",
       "              '_netstatistics',\n",
       "              '_avbdeviced',\n",
       "              '_krb_krbtgt',\n",
       "              '_krb_kadmin',\n",
       "              '_krb_changepw',\n",
       "              '_krb_kerberos',\n",
       "              '_krb_anonymous',\n",
       "              '_assetcache',\n",
       "              '_coremediaiod',\n",
       "              '_xcsbuildagent',\n",
       "              '_xcscredserver',\n",
       "              '_launchservicesd'],\n",
       "             '/var/root:/bin/sh': ['root'],\n",
       "             '/var/root:/usr/bin/false': ['daemon'],\n",
       "             '/var/spool/uucp:/usr/sbin/uucico': ['_uucp'],\n",
       "             '/var/networkd:/usr/bin/false': ['_networkd'],\n",
       "             '/var/spool/cups:/usr/bin/false': ['_lp'],\n",
       "             '/var/spool/postfix:/usr/bin/false': ['_postfix'],\n",
       "             '/var/db/geod:/usr/bin/false': ['_geod'],\n",
       "             '/Library/WebServer:/usr/bin/false': ['_www'],\n",
       "             '/var/imap:/usr/bin/false': ['_cyrus'],\n",
       "             '/var/virusmails:/usr/bin/false': ['_clamav', '_amavisd'],\n",
       "             '/var/teamsserver:/usr/bin/false': ['_teamsserver'],\n",
       "             '/var/db/locationd:/usr/bin/false': ['_locationd'],\n",
       "             '/var/db/lockdown:/usr/bin/false': ['_usbmuxd']})"
      ]
     },
     "execution_count": 43,
     "metadata": {},
     "output_type": "execute_result"
    }
   ],
   "source": [
    "from collections import defaultdict\n",
    "def get_shell(in_filenme,out_filename):\n",
    "    outdic=defaultdict(list)\n",
    "    with open(in_filenme,'r')as inf,open(out_filename,'w')as outf:\n",
    "        for one_line in inf:\n",
    "            if(not one_line.startswith('#')):\n",
    "                user=one_line.strip().split(':')[0]\n",
    "                shell=':'.join(one_line.strip().split(':')[-2:])\n",
    "                outdic[shell].append(user)\n",
    "        for key,value in outdic.items():\n",
    "            out_value=(',').join(value)\n",
    "            outf.write(f\"{key}:{out_value}\\n\")\n",
    "    return outdic\n",
    "get_shell('passwd.txt','passwd_shell.txt')"
   ]
  }
 ],
 "metadata": {
  "kernelspec": {
   "display_name": "Python 3",
   "language": "python",
   "name": "python3"
  },
  "language_info": {
   "codemirror_mode": {
    "name": "ipython",
    "version": 3
   },
   "file_extension": ".py",
   "mimetype": "text/x-python",
   "name": "python",
   "nbconvert_exporter": "python",
   "pygments_lexer": "ipython3",
   "version": "3.6.10"
  }
 },
 "nbformat": 4,
 "nbformat_minor": 4
}

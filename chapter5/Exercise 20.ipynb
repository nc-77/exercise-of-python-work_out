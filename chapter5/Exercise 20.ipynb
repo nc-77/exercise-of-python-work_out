{
 "cells": [
  {
   "cell_type": "markdown",
   "metadata": {},
   "source": [
    "The challenge for this exercise is to write a wordcount function that mimics the wcUnix command. The function will take a filename as input and will print four linesof output:\n",
    "1. Number of characters (including whitespace)\n",
    "2. Number of words (separated by whitespace)\n",
    "3. Number of lines\n",
    "4. Number of unique words (case sensitive, so “NO” is different from “no”)"
   ]
  },
  {
   "cell_type": "code",
   "execution_count": 4,
   "metadata": {},
   "outputs": [
    {
     "name": "stdout",
     "output_type": "stream",
     "text": [
      "characters:164\n",
      "words:28\n",
      "lines:11\n",
      "unique_words:20\n"
     ]
    }
   ],
   "source": [
    "def wordcount(filename):\n",
    "    counts={'characters':0,\n",
    "            'words':0,\n",
    "            'lines':0,\n",
    "            'unique_words':set()}\n",
    "    with open(filename,'r') as f:\n",
    "        for cur_line in f:\n",
    "            counts['characters']+=len(cur_line)\n",
    "            words_list=cur_line.split()\n",
    "            counts['words']+=len(words_list)\n",
    "            counts['lines']+=1\n",
    "            counts['unique_words'].update(words_list)\n",
    "    counts['unique_words']=len(counts['unique_words'])\n",
    "    return counts\n",
    "for key,value in wordcount('wcfile.txt').items():\n",
    "    print(f'{key}:{value}')"
   ]
  },
  {
   "cell_type": "markdown",
   "metadata": {},
   "source": [
    "Given a directory, read through each file and count the frequency of each let-ter. (Force letters to be lowercase, and ignore nonletter characters.) Use a dictto keep track of the letter frequencies. What are the five most common lettersacross all of these files?"
   ]
  },
  {
   "cell_type": "code",
   "execution_count": 47,
   "metadata": {},
   "outputs": [
    {
     "name": "stdout",
     "output_type": "stream",
     "text": [
      "e:457\n",
      "r:358\n",
      "s:353\n",
      "a:333\n",
      "i:240\n"
     ]
    }
   ],
   "source": [
    "import os\n",
    "import operator\n",
    "def lettercount(directory):\n",
    "    counts={}\n",
    "    files=os.listdir(directory)\n",
    "    for file in files:\n",
    "        if(file.split('.')[-1]!='txt'):\n",
    "            continue\n",
    "        with open(file,'r') as f:\n",
    "            for cur_line in f:\n",
    "                for letter in cur_line:\n",
    "                    if(letter.isalpha()):\n",
    "                        counts[letter.lower()]=counts.get(letter.lower(),0)+1\n",
    "    return sorted(counts.items(),key=operator.itemgetter(1),reverse=True)[0:5]\n",
    "path='C:/Users/86136/Desktop/exercise-of-python-work_out/chapter5/'\n",
    "for letter_count in lettercount(path):\n",
    "    print(f'{letter_count[0]}:{letter_count[1]}')"
   ]
  }
 ],
 "metadata": {
  "kernelspec": {
   "display_name": "Python 3",
   "language": "python",
   "name": "python3"
  },
  "language_info": {
   "codemirror_mode": {
    "name": "ipython",
    "version": 3
   },
   "file_extension": ".py",
   "mimetype": "text/x-python",
   "name": "python",
   "nbconvert_exporter": "python",
   "pygments_lexer": "ipython3",
   "version": "3.6.10"
  }
 },
 "nbformat": 4,
 "nbformat_minor": 4
}

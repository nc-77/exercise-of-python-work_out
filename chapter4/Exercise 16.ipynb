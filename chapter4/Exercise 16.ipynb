{
 "cells": [
  {
   "cell_type": "markdown",
   "metadata": {},
   "source": [
    "Write a function, dictdiff, that takes two dicts as arguments. The function returnsa new dict that expresses the difference between the two dicts."
   ]
  },
  {
   "cell_type": "code",
   "execution_count": 10,
   "metadata": {},
   "outputs": [
    {
     "name": "stdout",
     "output_type": "stream",
     "text": [
      "{}\n",
      "{'c': [3, 4]}\n",
      "{'d': [3, None], 'c': [None, 4]}\n",
      "{'d': [None, 4], 'c': [3, None]}\n"
     ]
    }
   ],
   "source": [
    "def dictdiff(first, second):\n",
    "    output = {}\n",
    "    all_keys = first.keys() | second.keys()   \n",
    "    for key in all_keys:\n",
    "        if first.get(key) != second.get(key):\n",
    "            output[key] = [first.get(key),second.get(key)]    \n",
    "    return output\n",
    "d1 = {'a':1, 'b':2, 'c':3}\n",
    "d2 = {'a':1, 'b':2, 'c':4}\n",
    "print(dictdiff(d1,d1))       \n",
    "print(dictdiff(d1,d2))   \n",
    "d3 = {'a':1, 'b':2, 'd':3}\n",
    "d4 = {'a':1, 'b':2, 'c':4}\n",
    "print(dictdiff(d3, d4))    \n",
    "d5 = {'a':1, 'b':2, 'd':4}\n",
    "print(dictdiff(d1,d5))  "
   ]
  },
  {
   "cell_type": "markdown",
   "metadata": {},
   "source": [
    "Write a function that takes any even number of arguments and returns a dictbased on them. The even-indexed arguments become the dict keys, while theodd-numbered arguments become the dict values. Thus, calling the functionwith  the  arguments  ('a',  1,  'b',  2)  will  result  in  the  dict  {'a':1,  'b':2}  beingreturned."
   ]
  },
  {
   "cell_type": "code",
   "execution_count": 21,
   "metadata": {},
   "outputs": [
    {
     "data": {
      "text/plain": [
       "{'a': 1, 'b': 2}"
      ]
     },
     "execution_count": 21,
     "metadata": {},
     "output_type": "execute_result"
    }
   ],
   "source": [
    "def creat_dic(*items):\n",
    "    output={}\n",
    "    for index in range(0,len(items),2):\n",
    "        output.update({items[index]:items[index+1]})\n",
    "    return output\n",
    "creat_dic('a',1,'b',2)"
   ]
  }
 ],
 "metadata": {
  "kernelspec": {
   "display_name": "Python 3",
   "language": "python",
   "name": "python3"
  },
  "language_info": {
   "codemirror_mode": {
    "name": "ipython",
    "version": 3
   },
   "file_extension": ".py",
   "mimetype": "text/x-python",
   "name": "python",
   "nbconvert_exporter": "python",
   "pygments_lexer": "ipython3",
   "version": "3.6.10"
  }
 },
 "nbformat": 4,
 "nbformat_minor": 4
}

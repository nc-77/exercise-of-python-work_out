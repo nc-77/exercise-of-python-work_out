{
 "cells": [
  {
   "cell_type": "markdown",
   "metadata": {},
   "source": [
    "Create  a  dict  in  which  the  keys  are  usernames  and  the  values  are  passwords,both represented as strings. Create a tiny login system, in which the user mustenter a username and password. If there is a match, then indicate that the userhas successfully logged in. If not, then refuse them entry. (Note: This is a nicelittle exercise, but please never store unencrypted passwords. It’s a major secu-rity risk.)"
   ]
  },
  {
   "cell_type": "code",
   "execution_count": 2,
   "metadata": {},
   "outputs": [
    {
     "name": "stdout",
     "output_type": "stream",
     "text": [
      "Enter your user_name:user1\n",
      "Enter your password:111\n",
      "successful login\n"
     ]
    }
   ],
   "source": [
    "users={\"user1\":\"111\",\"user2\":\"222\",\"users3\":\"333\"}\n",
    "def login():\n",
    "    user_name=input(\"Enter your user_name:\").strip()\n",
    "    if user_name in users:\n",
    "        if(users[user_name]==input(\"Enter your password:\")):\n",
    "            print(\"successful login\")\n",
    "        else:\n",
    "            print(\"Your password is wrong\")\n",
    "    else:\n",
    "        print(\"The user_name is not exist\")\n",
    "login()"
   ]
  },
  {
   "cell_type": "markdown",
   "metadata": {},
   "source": [
    "Define a dict whose keys are dates (represented by strings) from the most recentweek and whose values are temperatures. Ask the user to enter a date, and dis-play the temperature on that date, as well as the previous and subsequent dates,if available."
   ]
  },
  {
   "cell_type": "code",
   "execution_count": 34,
   "metadata": {},
   "outputs": [
    {
     "name": "stdout",
     "output_type": "stream",
     "text": [
      "Enter year-month-day:2020-7-13\n",
      "the temperatures of 2020-07-13 is 26℃.\n",
      "the temperatures of 2020-07-12 is 25℃.\n",
      "the temperatures of 2020-07-14 is 24℃.\n"
     ]
    }
   ],
   "source": [
    "from datetime import *\n",
    "temperatures={datetime(2020,7,12):25,datetime(2020,7,13):26,datetime(2020,7,14):24,datetime(2020,7,15):26}\n",
    "def search_temperatures():\n",
    "    year,month,day=input(\"Enter year-month-day:\").split('-')\n",
    "    date=datetime(int(year),int(month),int(day))\n",
    "    yesterday=date+timedelta(days=-1)\n",
    "    tomorrow=date+timedelta(days=1)\n",
    "    if date in temperatures:\n",
    "        print(\"the temperatures of {} is {}℃.\".format(date.strftime(\"%Y-%m-%d\"),temperatures[date]))\n",
    "        if yesterday in temperatures:\n",
    "            print(\"the temperatures of {} is {}℃.\".format(yesterday.strftime(\"%Y-%m-%d\"),temperatures[yesterday]))\n",
    "        if tomorrow in temperatures:\n",
    "            print(\"the temperatures of {} is {}℃.\".format(tomorrow.strftime(\"%Y-%m-%d\"),temperatures[tomorrow]))\n",
    "    else:\n",
    "        print(\"the temperatures of {} is unknown.\".format(date.strftime(\"%Y-%m-%d\")))\n",
    "search_temperatures()"
   ]
  },
  {
   "cell_type": "markdown",
   "metadata": {},
   "source": [
    "Define a dict whose keys are names of people in your family, and whose valuesare  their  birth  dates,  as  represented  by  Python date objects (http://mng.bz/jggr). Ask the user to enter the name of someone in your family, and have theprogram calculate how many days old that person is."
   ]
  },
  {
   "cell_type": "code",
   "execution_count": 1,
   "metadata": {},
   "outputs": [
    {
     "name": "stdout",
     "output_type": "stream",
     "text": [
      "Enter the family member:father\n",
      "father's age is 40.\n",
      "Enter the family member:son\n",
      "son's age is 20.\n",
      "Enter the family member:\n"
     ]
    }
   ],
   "source": [
    "from datetime import datetime\n",
    "birth={\"father\":datetime(1980,1,1),\"mother\":datetime(1982,1,1),\"son\":datetime(2000,1,1)}\n",
    "def get_age():\n",
    "    while True:\n",
    "        person=input(\"Enter the family member:\").strip()\n",
    "        if not person:break\n",
    "        if person in birth:\n",
    "            age=datetime.now().year-birth[person].year\n",
    "            print(f\"{person}'s age is {age}.\")\n",
    "        else:\n",
    "            print(f\"{person} is not exist.\")\n",
    "get_age()"
   ]
  }
 ],
 "metadata": {
  "kernelspec": {
   "display_name": "Python 3",
   "language": "python",
   "name": "python3"
  },
  "language_info": {
   "codemirror_mode": {
    "name": "ipython",
    "version": 3
   },
   "file_extension": ".py",
   "mimetype": "text/x-python",
   "name": "python",
   "nbconvert_exporter": "python",
   "pygments_lexer": "ipython3",
   "version": "3.6.10"
  }
 },
 "nbformat": 4,
 "nbformat_minor": 4
}

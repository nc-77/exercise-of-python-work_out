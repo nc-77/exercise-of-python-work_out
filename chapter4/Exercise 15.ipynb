{
 "cells": [
  {
   "cell_type": "markdown",
   "metadata": {},
   "source": [
    "Instead of printing just the total rainfall for each city, print the total rainfall andthe average rainfall for reported days. Thus, if you were to enter 30, 20, and 40for Boston, you would see that the total was 90 and the average was 30."
   ]
  },
  {
   "cell_type": "code",
   "execution_count": 2,
   "metadata": {},
   "outputs": [
    {
     "name": "stdout",
     "output_type": "stream",
     "text": [
      "Enter a city:Beijing\n",
      "Enter mm rain:20\n",
      "Enter a city:Beijing\n",
      "Enter mm rain:a\n",
      "Your input is not digit,please try again.\n",
      "Enter mm rain:30\n",
      "Enter a city:Beijing\n",
      "Enter mm rain:40\n",
      "Enter a city:Shanghai\n",
      "Enter mm rain:100\n",
      "Enter a city:\n",
      "Beijing:the total is 90 and the ave is 30.0\n",
      "Shanghai:the total is 100 and the ave is 100.0\n"
     ]
    }
   ],
   "source": [
    "def get_rainfall():\n",
    "    rainfall={}\n",
    "    sum_days={}\n",
    "    while True:\n",
    "        city_name=input(\"Enter a city:\").strip()\n",
    "        if not city_name:break\n",
    "        mm_rain=input(\"Enter mm rain:\").strip()\n",
    "        while(not mm_rain.isdigit()):\n",
    "            print(\"Your input is not digit,please try again.\")\n",
    "            mm_rain=input(\"Enter mm rain:\").strip()\n",
    "        rainfall[city_name]=rainfall.get(city_name,0)+int(mm_rain)\n",
    "        sum_days[city_name]=sum_days.get(city_name,0)+1\n",
    "    for city,rain in rainfall.items():\n",
    "        print(f\"{city}:the total is {rain} and the ave is {rain/sum_days[city]}\")\n",
    "get_rainfall()"
   ]
  },
  {
   "cell_type": "markdown",
   "metadata": {},
   "source": [
    "Read  through  a  text  file  on  disk.  Use a  dict  to  track  how  many  words  of  eachlength  are  in  the  file—that  is,  how  many  three-letter  words,  four-letter  words,five-letter words, and so on. Display your results."
   ]
  },
  {
   "cell_type": "code",
   "execution_count": 5,
   "metadata": {},
   "outputs": [
    {
     "name": "stdout",
     "output_type": "stream",
     "text": [
      "2:1\n",
      "3:2\n",
      "4:1\n"
     ]
    }
   ],
   "source": [
    "def get_length(words):\n",
    "    length_words={}\n",
    "    for word in words:\n",
    "        length_words[len(word)]=length_words.get(len(word),0)+1\n",
    "    for length,tot in sorted(length_words.items(),key=lambda x:x[0]):\n",
    "        print(f\"{length}:{tot}\")\n",
    "words=['aaa','aa','aaaa','aaa']\n",
    "get_length(words)"
   ]
  }
 ],
 "metadata": {
  "kernelspec": {
   "display_name": "Python 3",
   "language": "python",
   "name": "python3"
  }
 },
 "nbformat": 4,
 "nbformat_minor": 4
}

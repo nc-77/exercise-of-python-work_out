{
 "cells": [
  {
   "cell_type": "markdown",
   "metadata": {},
   "source": [
    " Write a function, myxml, that allows you to create simple XML output. The outputfrom the function will always be a strin"
   ]
  },
  {
   "cell_type": "code",
   "execution_count": 22,
   "metadata": {},
   "outputs": [
    {
     "data": {
      "text/plain": [
       "\"<tagname a:'1'b:'2'c:'3'>content</tagname>\""
      ]
     },
     "execution_count": 22,
     "metadata": {},
     "output_type": "execute_result"
    }
   ],
   "source": [
    "def myxml(tagname,content=\"\",**kwargs):\n",
    "    str_kwargs=''.join([f\"{key}:'{vaule}'\"for key,vaule in kwargs.items()])\n",
    "    return f\"<{tagname} {str_kwargs}>content</{tagname}>\"\n",
    "myxml('tagname','hello',a=1,b=2,c=3)"
   ]
  },
  {
   "cell_type": "markdown",
   "metadata": {},
   "source": [
    "Write  a copyfile  function  that  takes  one  mandatory  argument—the  name  ofan input file—and any number of additional arguments: the names of files towhich  the  input  should  be  copied.  Calling copyfile('myfile.txt','copy1.txt','copy2.txt','copy3.txt')  will  create  three  copies  of myfile.txt:one each in copy1.txt, copy2.txt, and copy3.txt."
   ]
  },
  {
   "cell_type": "code",
   "execution_count": 32,
   "metadata": {},
   "outputs": [],
   "source": [
    "def copyfile(copyed_filename,*copy_filenames):\n",
    "    with open(copyed_filename,'r') as f:\n",
    "        file_content=f.read()\n",
    "        for filename in copy_filenames:\n",
    "            outfile=open(filename,'w')\n",
    "            outfile.write(file_content)\n",
    "            outfile.close()\n",
    "copyfile('myfile.txt','copy1.txt','copy2.txt','copy3.txt')"
   ]
  },
  {
   "cell_type": "markdown",
   "metadata": {},
   "source": [
    "Write an anyjoin function that works similarly to str.join, except that the firstargument is a sequence of any types (not just of strings), and the second argu-ment is the “glue” that we put between elements, defaulting to \" \" (a space). Soanyjoin([1,2,3])  will  return 1 2 3,  and anyjoin('abc',glue='\\*')will return a\\*b\\*c."
   ]
  },
  {
   "cell_type": "code",
   "execution_count": 40,
   "metadata": {},
   "outputs": [
    {
     "data": {
      "text/plain": [
       "'a*b*c'"
      ]
     },
     "execution_count": 40,
     "metadata": {},
     "output_type": "execute_result"
    }
   ],
   "source": [
    "def anyjoin(items,glue=' '):\n",
    "    res=str(items[0])\n",
    "    for index in range(1,len(items)):\n",
    "        res+=glue+str(items[index])\n",
    "    return res\n",
    "anyjoin('abc',glue='*')"
   ]
  }
 ],
 "metadata": {
  "kernelspec": {
   "display_name": "Python 3",
   "language": "python",
   "name": "python3"
  },
  "language_info": {
   "codemirror_mode": {
    "name": "ipython",
    "version": 3
   },
   "file_extension": ".py",
   "mimetype": "text/x-python",
   "name": "python",
   "nbconvert_exporter": "python",
   "pygments_lexer": "ipython3",
   "version": "3.6.10"
  }
 },
 "nbformat": 4,
 "nbformat_minor": 4
}

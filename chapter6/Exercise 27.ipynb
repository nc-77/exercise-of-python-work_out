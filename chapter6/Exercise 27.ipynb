{
 "cells": [
  {
   "cell_type": "markdown",
   "metadata": {},
   "source": [
    "In  this  exercise,  we’re  going  to  create  a  password-generation  function.  Actually,we’re  going  to  create  a  factory  for  password-generation  functions. "
   ]
  },
  {
   "cell_type": "code",
   "execution_count": 7,
   "metadata": {},
   "outputs": [
    {
     "name": "stdout",
     "output_type": "stream",
     "text": [
      "bfbbc\n",
      "cffcaefcba\n",
      "#$%@#\n",
      "%#$!@%$%$@\n"
     ]
    }
   ],
   "source": [
    "import random\n",
    "def create_password_generator(characters):\n",
    "    def create_password(length):\n",
    "        output=[]\n",
    "        for i in range(length):\n",
    "            output.append(random.choice(characters))\n",
    "        return ''.join(output)\n",
    "    return create_password\n",
    "alpha_password = create_password_generator('abcdef')\n",
    "symbol_password = create_password_generator('!@#$%')\n",
    "print(alpha_password(5))\n",
    "print(alpha_password(10))\n",
    "print(symbol_password(5))\n",
    "print(symbol_password(10))"
   ]
  }
 ],
 "metadata": {
  "kernelspec": {
   "display_name": "Python 3",
   "language": "python",
   "name": "python3"
  },
  "language_info": {
   "codemirror_mode": {
    "name": "ipython",
    "version": 3
   },
   "file_extension": ".py",
   "mimetype": "text/x-python",
   "name": "python",
   "nbconvert_exporter": "python",
   "pygments_lexer": "ipython3",
   "version": "3.6.10"
  }
 },
 "nbformat": 4,
 "nbformat_minor": 4
}

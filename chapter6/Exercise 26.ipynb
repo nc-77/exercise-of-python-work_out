{
 "cells": [
  {
   "cell_type": "markdown",
   "metadata": {},
   "source": [
    " For  this  exercise,  I  want  you  to  write  a  function  (calc)  that  expects  a  singleargument—a string containing a simple math expression in prefix notation—with anoperator and two numbers. "
   ]
  },
  {
   "cell_type": "code",
   "execution_count": 1,
   "metadata": {},
   "outputs": [
    {
     "name": "stdout",
     "output_type": "stream",
     "text": [
      "5\n"
     ]
    }
   ],
   "source": [
    "import operator\n",
    "def calc(to_slove):\n",
    "    op,x,y=to_slove.split()\n",
    "    operations={'+':operator.add,\n",
    "               '-':operator.sub,\n",
    "               '*':operator.mul,\n",
    "               '/':operator.truediv,\n",
    "               '**':operator.pow,\n",
    "               '%':operator.mod}\n",
    "    return operations[op](int(x),int(y))\n",
    "print(calc('+ 2 3'))"
   ]
  },
  {
   "cell_type": "markdown",
   "metadata": {},
   "source": [
    "Expand  the  program  you  wrote,  such  that  the  user’s  input  can  contain  anynumber of numbers, not just two. The program will thus handle +3 5 7 or /100 5 5, and will apply the operator from left to right—giving the answers 15 and 4,respectively."
   ]
  },
  {
   "cell_type": "code",
   "execution_count": 8,
   "metadata": {},
   "outputs": [
    {
     "name": "stdout",
     "output_type": "stream",
     "text": [
      "15\n",
      "4.0\n"
     ]
    }
   ],
   "source": [
    "import operator\n",
    "def calc(to_slove):\n",
    "    op,s=to_slove.split(maxsplit=1)\n",
    "    s=list(map(int,s.split()))\n",
    "    operations={'+':operator.add,\n",
    "               '-':operator.sub,\n",
    "               '*':operator.mul,\n",
    "               '/':operator.truediv,\n",
    "               '**':operator.pow,\n",
    "               '%':operator.mod}\n",
    "    res=s[0]\n",
    "    for num in s[1:]:\n",
    "        res=operations[op](res,num)\n",
    "    return res\n",
    "print(calc('+ 3 5 7'))\n",
    "print(calc('/ 100 5 5'))"
   ]
  },
  {
   "cell_type": "markdown",
   "metadata": {},
   "source": [
    "Write a function, apply_to_each, that takes two arguments: a function that takesa single argument, and an iterable. Return a list whose values are the result ofapplying the function to each element in the iterable. (If this sounds familiar, itmight be—this is an implementation of the classic map function, still available inPython. You can find a description of map in chapter 7.)"
   ]
  },
  {
   "cell_type": "code",
   "execution_count": 9,
   "metadata": {},
   "outputs": [
    {
     "data": {
      "text/plain": [
       "[2, 3, 4]"
      ]
     },
     "execution_count": 9,
     "metadata": {},
     "output_type": "execute_result"
    }
   ],
   "source": [
    "def apply_to_each(function,items):\n",
    "    ret_items=[]\n",
    "    for item in items:\n",
    "        ret_items.append(function(item))\n",
    "    return ret_items\n",
    "test=[1,2,3]\n",
    "apply_to_each(lambda x:x+1,test)"
   ]
  }
 ],
 "metadata": {
  "kernelspec": {
   "display_name": "Python 3",
   "language": "python",
   "name": "python3"
  },
  "language_info": {
   "codemirror_mode": {
    "name": "ipython",
    "version": 3
   },
   "file_extension": ".py",
   "mimetype": "text/x-python",
   "name": "python",
   "nbconvert_exporter": "python",
   "pygments_lexer": "ipython3",
   "version": "3.6.10"
  }
 },
 "nbformat": 4,
 "nbformat_minor": 4
}

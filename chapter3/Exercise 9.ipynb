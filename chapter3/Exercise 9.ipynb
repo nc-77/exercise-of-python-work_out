{
 "cells": [
  {
   "cell_type": "code",
   "execution_count": 9,
   "metadata": {},
   "outputs": [
    {
     "name": "stdout",
     "output_type": "stream",
     "text": [
      "3\n",
      "3\n",
      "3\n"
     ]
    }
   ],
   "source": [
    "def mymax(test):\n",
    "    ans=test[0]\n",
    "    for x in test:\n",
    "        ans=max(x,ans)\n",
    "    return ans\n",
    "test_list=[1,2,3]\n",
    "test_string=\"123\"\n",
    "test_tube=(1,2,3)\n",
    "print(mymax(test_tube))\n",
    "print(mymax(test_list))\n",
    "print(mymax(test_string))"
   ]
  },
  {
   "cell_type": "markdown",
   "metadata": {},
   "source": [
    "Write a function that takes a list or tuple of numbers. Return a two-element list,containing (respectively) the sum of the even-indexed numbers and the sum ofthe odd-indexed numbers. So calling the function as even_odd_sums([10,20,30,40,50,60]), you’ll get back [90,120].In both cases, we’re using slices, not indexes."
   ]
  },
  {
   "cell_type": "code",
   "execution_count": 4,
   "metadata": {},
   "outputs": [
    {
     "data": {
      "text/plain": [
       "[90, 120]"
      ]
     },
     "execution_count": 4,
     "metadata": {},
     "output_type": "execute_result"
    }
   ],
   "source": [
    "def mysum(test_list):\n",
    "    output=[]\n",
    "    output.append(sum([test_list[i] for i in range(0,len(test_list),2)]))\n",
    "    output.append(sum([test_list[i] for i in range(1,len(test_list),2)]))\n",
    "    return output\n",
    "mysum([10,20,30,40,50,60])"
   ]
  },
  {
   "cell_type": "markdown",
   "metadata": {},
   "source": [
    "Write a function that takes a list or tuple of numbers. Return the result of alter-nately adding and subtracting numbers from each other. So calling the func-tion  as plus_minus([10,20,30,40,50,60]),  you’ll  get  back  the  result  of10+20-30+40-50+60, or 50."
   ]
  },
  {
   "cell_type": "code",
   "execution_count": 7,
   "metadata": {},
   "outputs": [
    {
     "data": {
      "text/plain": [
       "50"
      ]
     },
     "execution_count": 7,
     "metadata": {},
     "output_type": "execute_result"
    }
   ],
   "source": [
    "def mysum(test_list):\n",
    "    return test_list[0]+sum([test_list[i] for i in range(1,len(test_list),2)])-sum([test_list[i] for i in range(2,len(test_list),2)])\n",
    "mysum([10,20,30,40,50,60])"
   ]
  },
  {
   "cell_type": "markdown",
   "metadata": {},
   "source": [
    "Write a function that partly emulates the built-in zip function (http://mng.bz/Jyzv), taking any number of iterables and returning a list of tuples. Each tuplewill  contain  one  element  from  each  of  the  iterables  passed  to  the  function.Thus, if I call myzip([10,20,30],'abc'), the result will be [(10,'a'),(20,'b'),(30,'c')]. You can return a list (not an iterator) and can assume that allof the iterables are of the same length."
   ]
  },
  {
   "cell_type": "code",
   "execution_count": 9,
   "metadata": {},
   "outputs": [
    {
     "data": {
      "text/plain": [
       "[(10, 'a'), (20, 'b'), (30, 'c')]"
      ]
     },
     "execution_count": 9,
     "metadata": {},
     "output_type": "execute_result"
    }
   ],
   "source": [
    "def myzip(x,y):\n",
    "    output=[]\n",
    "    for i in range(len(x)):\n",
    "        output.append((x[i],y[i]))\n",
    "    return output\n",
    "x=[10,20,30]\n",
    "y='abc'\n",
    "myzip(x,y)"
   ]
  }
 ],
 "metadata": {
  "kernelspec": {
   "display_name": "Python 3",
   "language": "python",
   "name": "python3"
  },
  "language_info": {
   "codemirror_mode": {
    "name": "ipython",
    "version": 3
   },
   "file_extension": ".py",
   "mimetype": "text/x-python",
   "name": "python",
   "nbconvert_exporter": "python",
   "pygments_lexer": "ipython3",
   "version": "3.6.10"
  }
 },
 "nbformat": 4,
 "nbformat_minor": 4
}

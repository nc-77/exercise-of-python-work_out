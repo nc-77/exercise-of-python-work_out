{
 "cells": [
  {
   "cell_type": "markdown",
   "metadata": {},
   "source": [
    "Write a function, most_repeating_word, that takes a sequence of strings as input. Thefunction  should return the string  that contains the greatest number  of repeated  let-ters."
   ]
  },
  {
   "cell_type": "code",
   "execution_count": 3,
   "metadata": {},
   "outputs": [
    {
     "data": {
      "text/plain": [
       "'elementary'"
      ]
     },
     "execution_count": 3,
     "metadata": {},
     "output_type": "execute_result"
    }
   ],
   "source": [
    "from collections import Counter \n",
    "def most_repeating_word(words):\n",
    "    return max(words,key=lambda word:Counter(word).most_common(1)[0][1])\n",
    "words=['this', 'is', 'an','elementary', 'test', 'example']\n",
    "most_repeating_word(words)"
   ]
  },
  {
   "cell_type": "markdown",
   "metadata": {},
   "source": [
    "Instead of finding the word with the greatest number of repeated letters, findthe word with the greatest number of repeated vowels."
   ]
  },
  {
   "cell_type": "code",
   "execution_count": 7,
   "metadata": {},
   "outputs": [
    {
     "data": {
      "text/plain": [
       "'elementary'"
      ]
     },
     "execution_count": 7,
     "metadata": {},
     "output_type": "execute_result"
    }
   ],
   "source": [
    "from collections import Counter\n",
    "def most_repeating_vowels(word):\n",
    "    count_list=Counter(word).most_common()\n",
    "    for item in count_list:\n",
    "        if(item[0] in \"aeiouAEIOU\"):return item[1]\n",
    "    return 0\n",
    "def most_repeating_word(words):\n",
    "    return max(words,key=most_repeating_vowels)\n",
    "words=['this', 'is', 'an','elementary', 'test', 'example']\n",
    "most_repeating_word(words)"
   ]
  },
  {
   "cell_type": "markdown",
   "metadata": {},
   "source": [
    "Write a program to read /etc/passwd on a Unix computer. The first field containsthe  username,  and  the  final  field  contains  the  user’s shell,  the  command  inter-preter. Display the shells in decreasing order of popularity, such that the most pop-ular shell is shown first, the second most popular shell second, and so forth.For  an  added  challenge,  after  displaying  each  shell,  also  show  the  usernames(sorted alphabetically) who use each of those shells. "
   ]
  },
  {
   "cell_type": "code",
   "execution_count": 36,
   "metadata": {},
   "outputs": [
    {
     "data": {
      "text/plain": [
       "[('cd', [4, 'Mike', 'John', 'Hy', 'Hy']),\n",
       " ('ls', [2, 'Mike', 'Hy']),\n",
       " ('git commit', [2, 'John', 'Hy']),\n",
       " ('hexo n', [1, 'John']),\n",
       " ('hexo s', [1, 'John']),\n",
       " ('git push', [1, 'Hy'])]"
      ]
     },
     "execution_count": 36,
     "metadata": {},
     "output_type": "execute_result"
    }
   ],
   "source": [
    "from collections import Counter\n",
    "import operator\n",
    "shells={\"Mike\":[\"ls\",\"cd\"],\n",
    "        \"John\":[\"hexo n\",\"hexo s\",\"cd\",\"git commit\"],\n",
    "        \"Hy\":[\"cd\",\"git commit\",\"git push\",\"cd\",\"ls\"]}\n",
    "def sort_popular(shells):\n",
    "    output={}\n",
    "    for user_shell in shells.items():\n",
    "        user=user_shell[0]\n",
    "        list_shell=user_shell[1]\n",
    "        for shell in list_shell:\n",
    "           ## output[shell]=output.get(shell,0)+1\n",
    "            if(output.get(shell)):\n",
    "                output[shell][0]+=1\n",
    "            else:\n",
    "                output[shell]=[1]\n",
    "            output[shell].append(user)\n",
    "    sorted_shells=sorted(output.items(),key=operator.itemgetter(1),reverse=True)\n",
    "    \n",
    "    return sorted_shells\n",
    "sort_popular(shells)"
   ]
  }
 ],
 "metadata": {
  "kernelspec": {
   "display_name": "Python 3",
   "language": "python",
   "name": "python3"
  },
  "language_info": {
   "codemirror_mode": {
    "name": "ipython",
    "version": 3
   },
   "file_extension": ".py",
   "mimetype": "text/x-python",
   "name": "python",
   "nbconvert_exporter": "python",
   "pygments_lexer": "ipython3",
   "version": "3.6.10"
  }
 },
 "nbformat": 4,
 "nbformat_minor": 4
}

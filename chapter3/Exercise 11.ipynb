{
 "cells": [
  {
   "cell_type": "code",
   "execution_count": 6,
   "metadata": {},
   "outputs": [
    {
     "name": "stdout",
     "output_type": "stream",
     "text": [
      "[{'first': 'Reuven', 'last': 'Lerner', 'email': 'reuven@lerner.co.il'}, {'first': 'Vladimir', 'last': 'Putin', 'email': 'president@kremvax.ru'}, {'first': 'Donald', 'last': 'Trump', 'email': 'president@whitehouse.gov'}]\n"
     ]
    }
   ],
   "source": [
    "import operator\n",
    "PEOPLE = [{'first': 'Reuven', 'last': 'Lerner','email': 'reuven@lerner.co.il'},\n",
    "                         {'first': 'Donald', 'last': 'Trump','email': 'president@whitehouse.gov'},\n",
    "                         {'first': 'Vladimir', 'last': 'Putin','email': 'president@kremvax.ru'}]\n",
    "def alphabetize_names(list_of_dicts):\n",
    "    return sorted(list_of_dicts,key=operator.itemgetter('last', 'first'))    \n",
    "print(alphabetize_names(PEOPLE))"
   ]
  },
  {
   "cell_type": "markdown",
   "metadata": {},
   "source": [
    "Given a sequence of positive and negative numbers, sort them by absolute value."
   ]
  },
  {
   "cell_type": "code",
   "execution_count": 12,
   "metadata": {},
   "outputs": [
    {
     "data": {
      "text/plain": [
       "[-1, 2, -3, 4, 5]"
      ]
     },
     "execution_count": 12,
     "metadata": {},
     "output_type": "execute_result"
    }
   ],
   "source": [
    "import operator\n",
    "numbers=[-1,2,-3,4,5]\n",
    "def sort_abs(numbers):\n",
    "    return sorted(numbers,key=operator.abs)\n",
    "sort_abs(numbers)"
   ]
  },
  {
   "cell_type": "markdown",
   "metadata": {},
   "source": [
    "Given a list of strings, sort them according to how many vowels they contain."
   ]
  },
  {
   "cell_type": "code",
   "execution_count": 17,
   "metadata": {},
   "outputs": [
    {
     "data": {
      "text/plain": [
       "[['aei', 3], ['aeio', 4], ['aeiu', 4], ['aeiou', 5]]"
      ]
     },
     "execution_count": 17,
     "metadata": {},
     "output_type": "execute_result"
    }
   ],
   "source": [
    "import operator\n",
    "strings=[\"aeiou\",\"aeio\",\"aeiu\",\"aei\"]\n",
    "def sort_vowels(strings):\n",
    "    len_strings=[]\n",
    "    for item in strings:\n",
    "        sum_vowels=item.count('a')+item.count('e')+item.count('i')+item.count('o')+item.count('u')\n",
    "        len_strings.append([item,sum_vowels])\n",
    "    return sorted(len_strings,key=operator.itemgetter(1),reverse=False)\n",
    "sort_vowels(strings)"
   ]
  },
  {
   "cell_type": "markdown",
   "metadata": {},
   "source": [
    "Given a list of lists, with each list containing zero or more numbers, sort by thesum of each inner list’s numbers"
   ]
  },
  {
   "cell_type": "code",
   "execution_count": 18,
   "metadata": {},
   "outputs": [
    {
     "data": {
      "text/plain": [
       "[[-9, -2, 1], [1, -1, 0], [1, 2, 3], [4, 5, 6]]"
      ]
     },
     "execution_count": 18,
     "metadata": {},
     "output_type": "execute_result"
    }
   ],
   "source": [
    "list_numbers=[[1,-1,0],[4,5,6],[-9,-2,1],[1,2,3]]\n",
    "def sort_sum(list_numbers):\n",
    "    return sorted(list_numbers,key=lambda x:sum(x))\n",
    "sort_sum(list_numbers)"
   ]
  }
 ],
 "metadata": {
  "kernelspec": {
   "display_name": "Python 3",
   "language": "python",
   "name": "python3"
  },
  "language_info": {
   "codemirror_mode": {
    "name": "ipython",
    "version": 3
   },
   "file_extension": ".py",
   "mimetype": "text/x-python",
   "name": "python",
   "nbconvert_exporter": "python",
   "pygments_lexer": "ipython3",
   "version": "3.6.10"
  }
 },
 "nbformat": 4,
 "nbformat_minor": 4
}

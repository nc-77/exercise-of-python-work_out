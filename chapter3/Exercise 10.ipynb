{
 "cells": [
  {
   "cell_type": "markdown",
   "metadata": {},
   "source": [
    "# Summing anything"
   ]
  },
  {
   "cell_type": "code",
   "execution_count": 1,
   "metadata": {},
   "outputs": [
    {
     "name": "stdout",
     "output_type": "stream",
     "text": [
      "()\n",
      "100\n",
      "abcd\n",
      "[10, 20, 30, 40, 50, 60, 70, 80]\n"
     ]
    }
   ],
   "source": [
    "def mysum(*items):\n",
    "    if not items:\n",
    "        return items\n",
    "    output=items[0]\n",
    "    for item in items[1:]:\n",
    "        output+=item\n",
    "    return output\n",
    "print(mysum())\n",
    "print(mysum(10, 20, 30, 40))\n",
    "print(mysum('a', 'b', 'c', 'd'))\n",
    "print(mysum([10, 20, 30], [40, 50, 60], [70, 80]))"
   ]
  },
  {
   "cell_type": "markdown",
   "metadata": {},
   "source": [
    "Write a function, mysum_bigger_than, that works the same as mysum, except thatit  takes  a  first  argument  that  precedes *args.  That  argument  indicates  thethreshold  for  including  an  argument  in  the  sum.  Thus,  calling mysum_bigger_than(10,5,20,30,6) would return 50—because 5 and 6 aren’t greater than10. This function should similarly work with any type and assumes that all of thearguments are of the same type. Note that > and < work on many different typesin Python, not just on numbers; with strings, lists, and tuples, it refers to theirsort order."
   ]
  },
  {
   "cell_type": "code",
   "execution_count": 5,
   "metadata": {},
   "outputs": [
    {
     "name": "stdout",
     "output_type": "stream",
     "text": [
      "90\n",
      "bcd\n",
      "[40, 50, 60, 70, 80]\n"
     ]
    }
   ],
   "source": [
    "def mysum_bigger_than(base,*items):\n",
    "    if not items:\n",
    "        return items \n",
    "    output=items[0]\n",
    "    for item in items[1:]:\n",
    "        if(item>base):output+=item\n",
    "    return output\n",
    "print(mysum_bigger_than(10, 20, 30, 40))\n",
    "print(mysum_bigger_than('a', 'b', 'c', 'd'))\n",
    "print(mysum_bigger_than([10, 20, 30], [40, 50, 60], [70, 80]))"
   ]
  },
  {
   "cell_type": "markdown",
   "metadata": {},
   "source": [
    "Write a function that takes a list of dicts and returns a single dict that combinesall  of  the  keys  and  values.  If  a  key  appears  in  more  than  one  argument,  thevalue should be a list containing all of the values from the arguments. "
   ]
  },
  {
   "cell_type": "code",
   "execution_count": 13,
   "metadata": {},
   "outputs": [
    {
     "data": {
      "text/plain": [
       "{'a': [1, 'value1'], 'b': [2, 'value2'], 'c': [3, 'vaule3']}"
      ]
     },
     "execution_count": 13,
     "metadata": {},
     "output_type": "execute_result"
    }
   ],
   "source": [
    "def combine_dic(*dicts):\n",
    "    output={}\n",
    "    for dict in dicts:\n",
    "        for key in dict.keys():\n",
    "            if(output.get(key)):\n",
    "                output[key].append(dict[key])\n",
    "            else:\n",
    "                output[key]=[dict[key]]\n",
    "    return output\n",
    "combine_dic({'a':1,'b':2,'c':3},{'a':'value1','b':'value2'},{'c':'vaule3'})"
   ]
  }
 ],
 "metadata": {
  "kernelspec": {
   "display_name": "Python 3",
   "language": "python",
   "name": "python3"
  },
  "language_info": {
   "codemirror_mode": {
    "name": "ipython",
    "version": 3
   },
   "file_extension": ".py",
   "mimetype": "text/x-python",
   "name": "python",
   "nbconvert_exporter": "python",
   "pygments_lexer": "ipython3",
   "version": "3.6.10"
  }
 },
 "nbformat": 4,
 "nbformat_minor": 4
}

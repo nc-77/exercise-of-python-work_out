{
 "cells": [
  {
   "cell_type": "code",
   "execution_count": 18,
   "metadata": {},
   "outputs": [
    {
     "name": "stdout",
     "output_type": "stream",
     "text": [
      "Putin      Vladimir    3.63\n",
      "Trump      Donald      7.85\n",
      "Xi         Jinping    10.60\n"
     ]
    }
   ],
   "source": [
    "import operator\n",
    "PEOPLE = [('Donald', 'Trump', 7.85),\n",
    "          ('Vladimir', 'Putin', 3.626),\n",
    "          ('Jinping', 'Xi', 10.603)]\n",
    "def format_sort_records(list_of_tuples):\n",
    "    output = []\n",
    "    template = '{1:10} {0:10} {2:5.2f}'\n",
    "    for person in sorted(list_of_tuples,key=operator.itemgetter(1, 0)):    \n",
    "        output.append(template.format(*person))\n",
    "    return output\n",
    "print('\\n'.join(format_sort_records(PEOPLE)))"
   ]
  },
  {
   "cell_type": "markdown",
   "metadata": {},
   "source": [
    "Define a list of tuples, in which each tuple contains the name, length (in min-utes), and director of the movies nominated for best picture Oscar awards lastyear. Ask the user whether they want to sort the list by title, length, or director’sname, and then present the list sorted by the user’s choice of axis.You can use operator.itemgetter with any data structure that takes square brackets. You can also pass it more than one argument, as seen here."
   ]
  },
  {
   "cell_type": "code",
   "execution_count": 39,
   "metadata": {},
   "outputs": [
    {
     "name": "stdout",
     "output_type": "stream",
     "text": [
      "Enter your sort key:name\n",
      "name      length    director\n",
      "eg1       2         c    \n",
      "eg2       1.5       b    \n",
      "eg3       3         a    \n"
     ]
    }
   ],
   "source": [
    "from collections import namedtuple\n",
    "import operator\n",
    "movie=namedtuple(\"movie\",[\"name\",\"length\",\"director\"])\n",
    "tuple_movie=[movie(name=\"eg1\",length=2,director='c'),\n",
    "            movie(name=\"eg2\",length=1.5,director='b'),\n",
    "            movie(name=\"eg3\",length=3,director='a'),]\n",
    "def sort_movie(sort_key):\n",
    "    output=[]\n",
    "    for movie in sorted(tuple_movie,key=operator.attrgetter(sort_key)):\n",
    "        output.append(template.format(*movie))\n",
    "    return output\n",
    "sort_key=input(\"Enter your sort key:\")\n",
    "template=\"{0:<10}{1:<10}{2:<5}\"\n",
    "print(template.format(\"name\",\"length\",\"director\"))\n",
    "print(\"\\n\".join(sort_movie(sort_key)))"
   ]
  },
  {
   "cell_type": "markdown",
   "metadata": {},
   "source": [
    "Extend this exercise by allowing the user to sort by two or three of these fields,not just one of them. The user can specify the fields by entering them separatedby commas; you can use str.split to turn them into a list. "
   ]
  },
  {
   "cell_type": "code",
   "execution_count": 61,
   "metadata": {},
   "outputs": [
    {
     "name": "stdout",
     "output_type": "stream",
     "text": [
      "Enter your sort key:name,length\n",
      "name      length    director\n",
      "eg1       1         b    \n",
      "eg1       2         c    \n",
      "eg3       3         a    \n"
     ]
    }
   ],
   "source": [
    "from collections import namedtuple\n",
    "import operator\n",
    "movie=namedtuple(\"movie\",[\"name\",\"length\",\"director\"])\n",
    "tuple_movie=[movie(name=\"eg1\",length=2,director='c'),\n",
    "            movie(name=\"eg1\",length=1,director='b'),\n",
    "            movie(name=\"eg3\",length=3,director='a'),]\n",
    "def sort_movie(sort_key):\n",
    "    output=[]\n",
    "    for movie in sorted(tuple_movie,key=operator.attrgetter(*sort_key)):\n",
    "        output.append(template.format(*movie))\n",
    "    return output\n",
    "sort_key=input(\"Enter your sort key:\").split(',')\n",
    "template=\"{0:<10}{1:<10}{2:<5}\"\n",
    "print(template.format(\"name\",\"length\",\"director\"))\n",
    "print(\"\\n\".join(sort_movie(sort_key)))"
   ]
  }
 ],
 "metadata": {
  "kernelspec": {
   "display_name": "Python 3",
   "language": "python",
   "name": "python3"
  },
  "language_info": {
   "codemirror_mode": {
    "name": "ipython",
    "version": 3
   },
   "file_extension": ".py",
   "mimetype": "text/x-python",
   "name": "python",
   "nbconvert_exporter": "python",
   "pygments_lexer": "ipython3",
   "version": "3.6.10"
  }
 },
 "nbformat": 4,
 "nbformat_minor": 4
}

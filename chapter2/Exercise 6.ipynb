{
 "cells": [
  {
   "cell_type": "markdown",
   "metadata": {},
   "source": [
    "Write a func-tion  called pl_sentence  that  takes  a  string  containing  several  words,  separated  byspaces. "
   ]
  },
  {
   "cell_type": "code",
   "execution_count": 1,
   "metadata": {},
   "outputs": [
    {
     "data": {
      "text/plain": [
       "'hisTay isway away esttay'"
      ]
     },
     "execution_count": 1,
     "metadata": {},
     "output_type": "execute_result"
    }
   ],
   "source": [
    "def translate(word):\n",
    "    if word[0] in \"aeiou\":\n",
    "        return word+\"way\"\n",
    "    else:\n",
    "        return word[1:]+word[0]+\"ay\"\n",
    "def pl_sentence(sentence):\n",
    "    output=[]\n",
    "    for word in sentence.split():\n",
    "        output.append(translate(word))\n",
    "    return \" \".join(output)\n",
    "pl_sentence(\"This is a test\")"
   ]
  },
  {
   "cell_type": "markdown",
   "metadata": {},
   "source": [
    "Write  a  function  that  transposes  a  list  of  strings,  in  which  each  string  containsmultiple words separated by whitespace. Specifically, it should perform in such away that if you were to pass the list ['abcdefghi','jklmnopqr','stuvwxyz']to the function, it would return ['abcjklstu','defmnovwx','ghipqryz']."
   ]
  },
  {
   "cell_type": "code",
   "execution_count": 8,
   "metadata": {},
   "outputs": [
    {
     "data": {
      "text/plain": [
       "['abcjklst', 'defmnouvw', 'ghipqrxyz']"
      ]
     },
     "execution_count": 8,
     "metadata": {},
     "output_type": "execute_result"
    }
   ],
   "source": [
    "def change_list(List):\n",
    "    output=[]\n",
    "    for i in range(len(List)):\n",
    "        new_word=[]\n",
    "        for word in List:\n",
    "            new_word.append(word[int(len(word)/3*i):int(len(word)/3*(i+1))])\n",
    "        output.append(\"\".join(new_word))\n",
    "    return output\n",
    "change_list(['abcdefghi','jklmnopqr','stuvwxyz'])"
   ]
  }
 ],
 "metadata": {
  "kernelspec": {
   "display_name": "Python 3",
   "language": "python",
   "name": "python3"
  },
  "language_info": {
   "codemirror_mode": {
    "name": "ipython",
    "version": 3
   },
   "file_extension": ".py",
   "mimetype": "text/x-python",
   "name": "python",
   "nbconvert_exporter": "python",
   "pygments_lexer": "ipython3",
   "version": "3.6.10"
  }
 },
 "nbformat": 4,
 "nbformat_minor": 4
}

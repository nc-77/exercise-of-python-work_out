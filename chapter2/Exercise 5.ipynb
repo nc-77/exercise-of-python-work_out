{
 "cells": [
  {
   "cell_type": "markdown",
   "metadata": {},
   "source": [
    "# Pig Latin"
   ]
  },
  {
   "cell_type": "markdown",
   "metadata": {},
   "source": [
    "If the word begins with a vowel (a, e, i, o, or u), add “way” to the end of theword. So “air” becomes “airway” and “eat” becomes “eatway.”\n",
    "If the word begins with any other letter, then we take the first letter, put it onthe  end  of  the  word,  and  then  add  “ay.”  Thus,  “python”  becomes  “ythonpay”and “computer” becomes “omputercay.”\n",
    "Write  a  Python  function  (pig_latin)  that  takes  a  string  as  input,assumed to be an English word. "
   ]
  },
  {
   "cell_type": "code",
   "execution_count": 2,
   "metadata": {},
   "outputs": [
    {
     "name": "stdout",
     "output_type": "stream",
     "text": [
      "airway\n",
      "ythonpay\n"
     ]
    }
   ],
   "source": [
    "def translate(word):\n",
    "    if word[0] in \"aeiou\":\n",
    "        return word+\"way\"\n",
    "    else:\n",
    "        return word[1:]+word[0]+\"ay\"\n",
    "print(translate(\"air\"))\n",
    "print(translate(\"python\"))"
   ]
  },
  {
   "cell_type": "markdown",
   "metadata": {},
   "source": [
    "Handle  capitalized  words—If  a  word  is  capitalized  (i.e.,  the  first  letter  is  capital-ized,  but  the  rest  of  the  word  isn’t),  then  the  Pig  Latin  translation  should  besimilarly capitalized."
   ]
  },
  {
   "cell_type": "code",
   "execution_count": 7,
   "metadata": {},
   "outputs": [
    {
     "name": "stdout",
     "output_type": "stream",
     "text": [
      "Airway\n",
      "Ythonpay\n"
     ]
    }
   ],
   "source": [
    "def translate(word):\n",
    "    if word[0] in \"aeiouAEIOU\":\n",
    "        return word+\"way\"\n",
    "    else:\n",
    "        return (word[1:]+word[0]+\"ay\").capitalize()\n",
    "print(translate(\"Air\"))\n",
    "print(translate(\"Python\"))"
   ]
  },
  {
   "cell_type": "markdown",
   "metadata": {},
   "source": [
    "Handle  punctuation—If  a  word  ends  with  punctuation,  then  that  punctuationshould be shifted to the end of the translated word."
   ]
  },
  {
   "cell_type": "code",
   "execution_count": 10,
   "metadata": {},
   "outputs": [
    {
     "name": "stdout",
     "output_type": "stream",
     "text": [
      "Airway.\n",
      "Ythonpay.\n"
     ]
    }
   ],
   "source": [
    "def translate(word):\n",
    "    if word[0] in \"aeiouAEIOU\":\n",
    "        return word+\"way\"\n",
    "    else:\n",
    "        return (word[1:]+word[0]+\"ay\").capitalize()\n",
    "def deal_punctuation(word):\n",
    "    if(word[-1]=='.'):\n",
    "        return translate(word[:len(word)-1])+'.'\n",
    "    else:\n",
    "        return translate(word)\n",
    "print(deal_punctuation(\"Air.\"))\n",
    "print(deal_punctuation(\"Python.\"))"
   ]
  },
  {
   "cell_type": "markdown",
   "metadata": {},
   "source": [
    "Consider an alternative version of Pig Latin—We don’t check to see if the first letteris a vowel, but, rather, we check to see if the word contains two different vowels.If  it  does,  we  don’t  move  the  first  letter  to  the  end.  Because  the  word  “wine”contains two different vowels (“i” and “e”), we’ll add “way” to the end of it, giv-ing us “wineway.” By contrast, the word “wind” contains only one vowel, so wewould move the first letter to the end and add “ay,” rendering it “indway.” Howwould you check for two different vowels in the word? (Hint: sets can come inhandy here.)"
   ]
  },
  {
   "cell_type": "code",
   "execution_count": 11,
   "metadata": {},
   "outputs": [
    {
     "name": "stdout",
     "output_type": "stream",
     "text": [
      "wineway\n",
      "Indway\n"
     ]
    }
   ],
   "source": [
    "def final_translate(word):\n",
    "    cnt=0\n",
    "    for i in word:\n",
    "        if i in \"aeiouAEIOU\":\n",
    "            cnt+=1\n",
    "    if(cnt>=2):\n",
    "        return word+\"way\"\n",
    "    else:\n",
    "        return (word[1:]+word[0]+\"ay\").capitalize()\n",
    "print(final_translate(\"wine\"))\n",
    "print(final_translate(\"wind\"))"
   ]
  }
 ],
 "metadata": {
  "kernelspec": {
   "display_name": "Python 3",
   "language": "python",
   "name": "python3"
  },
  "language_info": {
   "codemirror_mode": {
    "name": "ipython",
    "version": 3
   },
   "file_extension": ".py",
   "mimetype": "text/x-python",
   "name": "python",
   "nbconvert_exporter": "python",
   "pygments_lexer": "ipython3",
   "version": "3.6.10"
  }
 },
 "nbformat": 4,
 "nbformat_minor": 4
}

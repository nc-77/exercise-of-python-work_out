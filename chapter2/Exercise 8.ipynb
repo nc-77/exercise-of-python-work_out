{
 "cells": [
  {
   "cell_type": "markdown",
   "metadata": {},
   "source": [
    "# Sort String "
   ]
  },
  {
   "cell_type": "markdown",
   "metadata": {},
   "source": [
    "Given the string “Tom Dick Harry,” break it into individual words, and then sortthose  words  alphabetically.  Once  they’re  sorted,  print  them  with  commas  (,)between the names."
   ]
  },
  {
   "cell_type": "code",
   "execution_count": 3,
   "metadata": {},
   "outputs": [
    {
     "data": {
      "text/plain": [
       "'Dick,Harry,Tom'"
      ]
     },
     "execution_count": 3,
     "metadata": {},
     "output_type": "execute_result"
    }
   ],
   "source": [
    "def mysort(sentence):\n",
    "    words=sorted(sentence.split())\n",
    "    return ','.join(words)\n",
    "mysort(\"Tom Dick Harry\")"
   ]
  },
  {
   "cell_type": "markdown",
   "metadata": {},
   "source": [
    "Which is the longest word in a text file?"
   ]
  },
  {
   "cell_type": "code",
   "execution_count": 11,
   "metadata": {},
   "outputs": [
    {
     "name": "stdout",
     "output_type": "stream",
     "text": [
      "The longest word in a text file is Harry\n"
     ]
    }
   ],
   "source": [
    "def mysort(sentence):\n",
    "    words=sorted(sentence.split(),key=lambda x:len(x))\n",
    "    return words\n",
    "sorted_sentence=mysort(\"Tom Dick Harry\")\n",
    "print(f\"The longest word in a text file is {sorted_sentence[-1]}\")"
   ]
  }
 ],
 "metadata": {
  "kernelspec": {
   "display_name": "Python 3",
   "language": "python",
   "name": "python3"
  },
  "language_info": {
   "codemirror_mode": {
    "name": "ipython",
    "version": 3
   },
   "file_extension": ".py",
   "mimetype": "text/x-python",
   "name": "python",
   "nbconvert_exporter": "python",
   "pygments_lexer": "ipython3",
   "version": "3.6.10"
  }
 },
 "nbformat": 4,
 "nbformat_minor": 4
}

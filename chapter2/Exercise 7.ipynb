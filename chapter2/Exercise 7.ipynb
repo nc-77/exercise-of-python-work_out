{
 "cells": [
  {
   "cell_type": "markdown",
   "metadata": {},
   "source": [
    "# Ubbi Dubbi"
   ]
  },
  {
   "cell_type": "markdown",
   "metadata": {},
   "source": [
    " In Ubbi Dubbi, every vowel (a, e, i, o, or u) is prefaced with ub. Thus milk becomesmubilk (m-ub-ilk) and program becomes prubogrubam  (prub-ogrub-am). In theory,you only put an ub before every vowel sound, rather than before each vowel.\n",
    " write  a  function  (called ubbi_dubbi)  that  takes  a  singleword  (string)  as  an  argument.  It  returns  a  string,  the  word’s  translation  into  UbbiDubbi. "
   ]
  },
  {
   "cell_type": "code",
   "execution_count": 2,
   "metadata": {},
   "outputs": [
    {
     "data": {
      "text/plain": [
       "'prubogrubam'"
      ]
     },
     "execution_count": 2,
     "metadata": {},
     "output_type": "execute_result"
    }
   ],
   "source": [
    "def ubbi(word):\n",
    "    output=[]\n",
    "    for letter in word:\n",
    "        if letter in \"aeiou\":\n",
    "            output.append(\"ub\")\n",
    "        output.append(letter)\n",
    "    return \"\".join(output)\n",
    "ubbi(\"program\")"
   ]
  },
  {
   "cell_type": "markdown",
   "metadata": {},
   "source": [
    "Handle  capitalized  words—If  a  word  is  capitalized  (i.e.,  the  first  letter  is  capital-ized, but the rest of the word isn’t), then the Ubbi Dubbi translation should besimilarly capitalized."
   ]
  },
  {
   "cell_type": "code",
   "execution_count": 3,
   "metadata": {},
   "outputs": [
    {
     "data": {
      "text/plain": [
       "'Prubogrubam'"
      ]
     },
     "execution_count": 3,
     "metadata": {},
     "output_type": "execute_result"
    }
   ],
   "source": [
    "def ubbi(word):\n",
    "    output=[]\n",
    "    for letter in word:\n",
    "        if letter in \"aeiouAEIOU\":\n",
    "            output.append(\"ub\")\n",
    "        output.append(letter)\n",
    "    return \"\".join(output)\n",
    "ubbi(\"Program\")"
   ]
  },
  {
   "cell_type": "markdown",
   "metadata": {},
   "source": [
    "Remove author names—In academia, it’s common to remove the authors’ namesfrom a paper submitted for peer review. Given a string containing an article anda  separate  list  of  strings  containing  authors’  names,  replace  all  names  in  thearticle with _ characters."
   ]
  },
  {
   "cell_type": "code",
   "execution_count": 8,
   "metadata": {},
   "outputs": [
    {
     "data": {
      "text/plain": [
       "'This is an article by XXX, XXX and XXX.XXX is smarter than XXX.'"
      ]
     },
     "execution_count": 8,
     "metadata": {},
     "output_type": "execute_result"
    }
   ],
   "source": [
    "def remove_names(authors,article):\n",
    "    for author in authors:\n",
    "        article=article.replace(author,\"XXX\")\n",
    "    return article\n",
    "authors=[\"Mike\",\"The second author\",\"apple ipad\"]\n",
    "article=\"This is an article by Mike, The second author and apple ipad.Mike is smarter than apple ipad.\"\n",
    "remove_names(authors,article)"
   ]
  },
  {
   "cell_type": "markdown",
   "metadata": {},
   "source": [
    "URL-encode  characters—In  URLs,  we  often  replace  special  and  nonprintablecharacters with a % followed by the character’s ASCII value in hexadecimal. Forexample,  if  a  URL  is  to  include  a  space  character  (ASCII  32,  aka  0x20),  wereplace it with %20. Given a string, URL-encode any character that isn’t a letteror  number.  For  the  purposes  of  this  exercise,  we’ll  assume  that  all  charactersare indeed in ASCII (i.e., one byte long), and not multibyte UTF-8 characters. Itmight help to know about the ord ( http://mng.bz/EdnJ) and hex ( http://mng.bz/nPxg) functions."
   ]
  },
  {
   "cell_type": "code",
   "execution_count": 24,
   "metadata": {},
   "outputs": [
    {
     "data": {
      "text/plain": [
       "'https://www.nc-%4d.top/%c80itisatest%64w=%1'"
      ]
     },
     "execution_count": 24,
     "metadata": {},
     "output_type": "execute_result"
    }
   ],
   "source": [
    "import re\n",
    "def url_encode(url):\n",
    "    num_list=re.findall(r\"\\d+\",url)\n",
    "    for num in num_list:\n",
    "        url=url.replace(num,hex(int(num)))\n",
    "        url=url.replace(\"0x\",\"%\")\n",
    "    return url\n",
    "url=\"https://www.nc-77.top/3200itisatest100w=1\"\n",
    "url_encode(url)"
   ]
  },
  {
   "cell_type": "code",
   "execution_count": null,
   "metadata": {},
   "outputs": [],
   "source": []
  }
 ],
 "metadata": {
  "kernelspec": {
   "display_name": "Python 3",
   "language": "python",
   "name": "python3"
  },
  "language_info": {
   "codemirror_mode": {
    "name": "ipython",
    "version": 3
   },
   "file_extension": ".py",
   "mimetype": "text/x-python",
   "name": "python",
   "nbconvert_exporter": "python",
   "pygments_lexer": "ipython3",
   "version": "3.6.10"
  }
 },
 "nbformat": 4,
 "nbformat_minor": 4
}

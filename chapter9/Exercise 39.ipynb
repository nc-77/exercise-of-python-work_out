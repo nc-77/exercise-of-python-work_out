{
 "cells": [
  {
   "cell_type": "markdown",
   "metadata": {},
   "source": [
    " In  this  exercise,  we’re  going  to  see  a  small-scale  version  of  that.  In  the  previousexercise,  we  created  a Scoop  class  that  represents  one  scoop  of  ice  cream.  If  we’rereally  going  to  model  the  real  world,  though,  we  should  have  another  object  intowhich  we  can  put  the  scoops.  I  thus  want  you  to  create  a Bowl  class,  representing  abowl into which we can put our ice cream "
   ]
  },
  {
   "cell_type": "code",
   "execution_count": 32,
   "metadata": {},
   "outputs": [
    {
     "name": "stdout",
     "output_type": "stream",
     "text": [
      "chocolate\n",
      "vanilla\n",
      "persimmon\n"
     ]
    }
   ],
   "source": [
    "class Scoop():\n",
    "    def __init__(self,flavor):\n",
    "        self.flavor= flavor\n",
    "    def __repr__(self):\n",
    "        return self.flavor\n",
    "class Bowl():\n",
    "    def __init__(self):\n",
    "        self.scoops=[]\n",
    "    def add_scoops(self,*scoops):\n",
    "        self.scoops.extend(scoop for scoop in scoops)\n",
    "    def __repr__(self):\n",
    "        return '\\n'.join(s.flavor for s in self.scoops) \n",
    "s1 = Scoop('chocolate')\n",
    "s2 = Scoop('vanilla')\n",
    "s3 = Scoop('persimmon')\n",
    "b = Bowl()\n",
    "b.add_scoops(s1,s2)\n",
    "b.add_scoops(s3)\n",
    "print(b)"
   ]
  },
  {
   "cell_type": "code",
   "execution_count": 82,
   "metadata": {},
   "outputs": [
    {
     "name": "stdout",
     "output_type": "stream",
     "text": [
      "chocolate\n",
      "vanilla\n",
      "persimmon\n"
     ]
    }
   ],
   "source": [
    "from dataclasses import dataclass,field\n",
    "from typing import List\n",
    "@dataclass\n",
    "class Scoop():\n",
    "    flavor:str\n",
    "@dataclass\n",
    "class Bowl():\n",
    "    scoops:List[Scoop]=field(default_factory=list)\n",
    "    def add_scoops(self,*scoops):\n",
    "        self.scoops.extend(scoop for scoop in scoops)\n",
    "    def __repr__(self):\n",
    "        return '\\n'.join(s.flavor for s in self.scoops) \n",
    "s1 = Scoop('chocolate')\n",
    "s2 = Scoop('vanilla')\n",
    "s3 = Scoop('persimmon')\n",
    "b = Bowl()\n",
    "b.add_scoops(s1,s2)\n",
    "b.add_scoops(s3)\n",
    "print(b)"
   ]
  }
 ],
 "metadata": {
  "kernelspec": {
   "display_name": "Python 3",
   "language": "python",
   "name": "python3"
  },
  "language_info": {
   "codemirror_mode": {
    "name": "ipython",
    "version": 3
   },
   "file_extension": ".py",
   "mimetype": "text/x-python",
   "name": "python",
   "nbconvert_exporter": "python",
   "pygments_lexer": "ipython3",
   "version": "3.6.10"
  }
 },
 "nbformat": 4,
 "nbformat_minor": 4
}

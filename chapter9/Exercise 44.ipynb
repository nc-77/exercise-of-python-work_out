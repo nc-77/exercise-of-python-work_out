{
 "cells": [
  {
   "cell_type": "code",
   "execution_count": 9,
   "metadata": {},
   "outputs": [
    {
     "name": "stdout",
     "output_type": "stream",
     "text": [
      "Cage 1:\n",
      "\tblack Wolf, 4 legs\n",
      "\twhite Sheep, 4 legs\n",
      "Cage 2:\n",
      "\tbrown Snake, 0 legs\n",
      "\tgreen Parrot, 2 legs\n"
     ]
    }
   ],
   "source": [
    "class Animal():\n",
    "    def __init__(self, color, number_of_legs): \n",
    "        self.species = self.__class__.__name__ \n",
    "        self.color = color\n",
    "        self.number_of_legs = number_of_legs\n",
    "\n",
    "    def __repr__(self):\n",
    "        return f\"{self.color} {self.species}, {self.number_of_legs} legs\" \n",
    "\n",
    "\n",
    "class Wolf(Animal):\n",
    "    def __init__(self, color):\n",
    "        super().__init__(color, 4)\n",
    "\n",
    "class Sheep(Animal):\n",
    "    def __init__(self, color):\n",
    "        super().__init__(color, 4)\n",
    "\n",
    "class Snake(Animal):\n",
    "    def __init__(self, color):\n",
    "        super().__init__(color, 0)\n",
    "\n",
    "class Parrot(Animal):\n",
    "    def __init__(self, color):\n",
    "        super().__init__(color, 2)\n",
    "\n",
    "class Cage:\n",
    "    def __init__(self,id):\n",
    "        self.id=id\n",
    "        self.animals=[]\n",
    "    def add_animals(self,*animals):\n",
    "        self.animals.extend(animal for animal in animals)\n",
    "    def __repr__(self):\n",
    "        output=f'Cage {self.id}:\\n'\n",
    "        output+= '\\n'.join('\\t'+  str(animal) for animal in self.animals)\n",
    "        return output\n",
    "wolf = Wolf('black')\n",
    "sheep = Sheep('white')\n",
    "snake = Snake('brown')\n",
    "parrot = Parrot('green')\n",
    "c1 = Cage(1)\n",
    "c1.add_animals(wolf,sheep)\n",
    "c2 = Cage(2)\n",
    "c2.add_animals(snake,parrot)\n",
    "print(c1)\n",
    "print(c2)"
   ]
  }
 ],
 "metadata": {
  "kernelspec": {
   "display_name": "Python 3",
   "language": "python",
   "name": "python3"
  },
  "language_info": {
   "codemirror_mode": {
    "name": "ipython",
    "version": 3
   },
   "file_extension": ".py",
   "mimetype": "text/x-python",
   "name": "python",
   "nbconvert_exporter": "python",
   "pygments_lexer": "ipython3",
   "version": "3.6.10"
  }
 },
 "nbformat": 4,
 "nbformat_minor": 4
}

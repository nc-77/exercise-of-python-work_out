{
 "cells": [
  {
   "cell_type": "markdown",
   "metadata": {},
   "source": [
    " In this  exercise,  you’ll  define  a class, Scoop, that  represents  a single scoop  of icecream. Each scoop should have a single attribute, flavor, a string that you can initial-ize when you create the instance of Scoop."
   ]
  },
  {
   "cell_type": "code",
   "execution_count": 5,
   "metadata": {},
   "outputs": [
    {
     "name": "stdout",
     "output_type": "stream",
     "text": [
      "chocolate\n",
      "vanilla\n",
      "persimmon\n"
     ]
    }
   ],
   "source": [
    "class Scoop:\n",
    "    def __init__(self,flavor):\n",
    "        self.flavor=flavor\n",
    "def create_scoops():\n",
    "    scoops= [Scoop('chocolate'),Scoop('vanilla'),Scoop('persimmon')]\n",
    "    for scoop in scoops:\n",
    "        print(scoop.flavor)\n",
    "create_scoops()"
   ]
  }
 ],
 "metadata": {
  "kernelspec": {
   "display_name": "Python 3",
   "language": "python",
   "name": "python3"
  },
  "language_info": {
   "codemirror_mode": {
    "name": "ipython",
    "version": 3
   },
   "file_extension": ".py",
   "mimetype": "text/x-python",
   "name": "python",
   "nbconvert_exporter": "python",
   "pygments_lexer": "ipython3",
   "version": "3.6.10"
  }
 },
 "nbformat": 4,
 "nbformat_minor": 4
}

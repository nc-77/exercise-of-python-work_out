{
 "cells": [
  {
   "cell_type": "markdown",
   "metadata": {},
   "source": [
    " In this exercise, we’ll also implement a subclass of dict, which I call FlexibleDict.Dict keys are Python objects, and as such are identified with a type. So if you use key 1(an  integer)  to  store  a  value,  then  you  can’t  use  key '1'  (a  string)  to  retrieve  thatvalue. But FlexibleDict will allow for this. If it doesn’t find the user’s key, it will try toconvert the key to both str and int before giving up"
   ]
  },
  {
   "cell_type": "code",
   "execution_count": 12,
   "metadata": {},
   "outputs": [
    {
     "name": "stdout",
     "output_type": "stream",
     "text": [
      "a\n",
      "100\n",
      "5\n",
      "500\n",
      "1\n",
      "100\n",
      "1\n",
      "100\n"
     ]
    }
   ],
   "source": [
    "class FlexibleDict(dict):\n",
    "    def __getitem__(self, key):\n",
    "        try:\n",
    "            if key in self:\n",
    "                pass\n",
    "            elif str(key) in self:\n",
    "                key = str(key)\n",
    "            elif int(key) in self:\n",
    "                key = int(key)\n",
    "        except ValueError:\n",
    "            pass\n",
    "        finally:\n",
    "            print(key)\n",
    "        return super().__getitem__(key)\n",
    "\n",
    "\n",
    "fd = FlexibleDict()\n",
    "\n",
    "fd['a'] = 100\n",
    "print(fd['a'])\n",
    "\n",
    "fd[5] = 500\n",
    "print(fd[5])\n",
    "\n",
    "fd[1] = 100\n",
    "print(fd['1'])\n",
    "\n",
    "fd['1'] = 100\n",
    "print(fd[1])"
   ]
  },
  {
   "cell_type": "markdown",
   "metadata": {},
   "source": [
    "The RecentDict  class  works  just  like  a dict,  except  that  it  contains  a  user-defined number of key-value pairs, which are determined when the instance iscreated. In a RecentDict(5), only the five most recent key-value pairs are kept;if there are more than five pairs, then the oldest key is removed, along with itsvalue. Note: your implementation could take into account the fact that moderndicts store their key-value pairs in chronological order."
   ]
  },
  {
   "cell_type": "code",
   "execution_count": 30,
   "metadata": {},
   "outputs": [
    {
     "name": "stdout",
     "output_type": "stream",
     "text": [
      "{'b': 2, 'c': 3}\n",
      "{'b': 2, 'c': 3, 'd': 4, 'e': 5}\n"
     ]
    }
   ],
   "source": [
    "class RecentDict(dict):\n",
    "    def __init__(self,maxsize,st_dic):\n",
    "        self.maxsize=maxsize\n",
    "        super().__init__(list(st_dic.items())[-maxsize:])\n",
    "dic_1={'a':1,'b':2,'c':3}\n",
    "dic_2={'a':1,'b':2,'c':3,'d':4,'e':5}\n",
    "Dic_1=RecentDict(2,dic_1)\n",
    "print(Dic_1)\n",
    "Dic_2=RecentDict(4,dic_2)\n",
    "print(Dic_2)"
   ]
  }
 ],
 "metadata": {
  "kernelspec": {
   "display_name": "Python 3",
   "language": "python",
   "name": "python3"
  },
  "language_info": {
   "codemirror_mode": {
    "name": "ipython",
    "version": 3
   },
   "file_extension": ".py",
   "mimetype": "text/x-python",
   "name": "python",
   "nbconvert_exporter": "python",
   "pygments_lexer": "ipython3",
   "version": "3.6.10"
  }
 },
 "nbformat": 4,
 "nbformat_minor": 4
}

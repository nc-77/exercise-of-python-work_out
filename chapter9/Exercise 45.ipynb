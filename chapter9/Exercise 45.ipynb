{
 "cells": [
  {
   "cell_type": "markdown",
   "metadata": {},
   "source": [
    "Finally, the time has come to create our Zoo object. It will contain cage objects, andthey  in  turn  will  contain  animals.  Our Zoo  class  will  need  to  support  the  followingoperations:<br>\n",
    "1.Given a zoo z, we should be able to print all of the cages (with their ID num-bers) and the animals inside simply by invoking print(z).<br>\n",
    "2.We  should  be  able  to  get  the  animals  with  a  particular  color  by  invoking  themethod z.animals_by_color.  For  example,  we  can  get  all  of  the  black  ani-mals by invoking z.animals_by_color('black'). The result should be a listof Animal objects.<br>\n",
    "3.We should be able to get the animals with a particular number of legs by invok-ing  the  method z.animals_by_legs.  For  example,  we  can  get  all  of  the  four-legged animals by invoking z.animals_by_legs(4). The result should be a listof Animal objects.<br>\n",
    "4.Finally, we have a potential donor to our zoo who wants to provide socks for allof  the  animals.  Thus,  we  need  to  be  able  to  invoke z.number_of_legs()  and get a count of the total number of legs for all animals in our zoo."
   ]
  },
  {
   "cell_type": "code",
   "execution_count": 6,
   "metadata": {},
   "outputs": [
    {
     "name": "stdout",
     "output_type": "stream",
     "text": [
      "Cage 1:\n",
      "\tblack Wolf, 4 legs\n",
      "\twhite Sheep, 4 legs\n",
      "Cage 2:\n",
      "\tbrown Snake, 0 legs\n",
      "\tgreen Parrot, 2 legs\n",
      "[white Sheep, 4 legs]\n",
      "[black Wolf, 4 legs, white Sheep, 4 legs]\n",
      "10\n"
     ]
    }
   ],
   "source": [
    "class Animal():\n",
    "    def __init__(self, color, number_of_legs): \n",
    "        self.species = self.__class__.__name__ \n",
    "        self.color = color\n",
    "        self.number_of_legs = number_of_legs\n",
    "\n",
    "    def __repr__(self):\n",
    "        return f\"{self.color} {self.species}, {self.number_of_legs} legs\" \n",
    "\n",
    "\n",
    "class Wolf(Animal):\n",
    "    def __init__(self, color):\n",
    "        super().__init__(color, 4)\n",
    "\n",
    "class Sheep(Animal):\n",
    "    def __init__(self, color):\n",
    "        super().__init__(color, 4)\n",
    "\n",
    "class Snake(Animal):\n",
    "    def __init__(self, color):\n",
    "        super().__init__(color, 0)\n",
    "\n",
    "class Parrot(Animal):\n",
    "    def __init__(self, color):\n",
    "        super().__init__(color, 2)\n",
    "\n",
    "class Cage:\n",
    "    def __init__(self,id):\n",
    "        self.id=id\n",
    "        self.animals=[]\n",
    "    def add_animals(self,*animals):\n",
    "        self.animals.extend(animal for animal in animals)\n",
    "    def __repr__(self):\n",
    "        output=f'Cage {self.id}:\\n'\n",
    "        output+= '\\n'.join('\\t'+  str(animal) for animal in self.animals)\n",
    "        return output\n",
    "\n",
    "class Zoo:\n",
    "    def __init__(self):\n",
    "        self.cages=[]\n",
    "    def add_cages(self,*cages):\n",
    "        for one_cage in cages:\n",
    "            self.cages.append(one_cage)\n",
    "    def animals_by_color(self,color):\n",
    "        return [animal for cage in self.cages\n",
    "               for animal in cage.animals\n",
    "               if animal.color==color]\n",
    "    def animals_by_legs(self,legs):\n",
    "        return [animal for cage in self.cages\n",
    "               for animal in cage.animals\n",
    "               if animal.number_of_legs==legs]\n",
    "    def number_of_legs(self):\n",
    "        return sum(animal.number_of_legs for cage in self.cages\n",
    "               for animal in cage.animals)\n",
    "    def __repr__(self):\n",
    "        return '\\n'.join([str(cage) for cage in self.cages])\n",
    "wolf = Wolf('black')\n",
    "sheep = Sheep('white')\n",
    "snake = Snake('brown')\n",
    "parrot = Parrot('green')\n",
    "c1 = Cage(1)\n",
    "c1.add_animals(wolf,sheep)\n",
    "c2 = Cage(2)\n",
    "c2.add_animals(snake,parrot)\n",
    "z = Zoo()\n",
    "z.add_cages(c1,c2)\n",
    "print(z)\n",
    "print(z.animals_by_color('white'))\n",
    "print(z.animals_by_legs(4))\n",
    "print(z.number_of_legs())"
   ]
  }
 ],
 "metadata": {
  "kernelspec": {
   "display_name": "Python 3",
   "language": "python",
   "name": "python3"
  },
  "language_info": {
   "codemirror_mode": {
    "name": "ipython",
    "version": 3
   },
   "file_extension": ".py",
   "mimetype": "text/x-python",
   "name": "python",
   "nbconvert_exporter": "python",
   "pygments_lexer": "ipython3",
   "version": "3.6.10"
  }
 },
 "nbformat": 4,
 "nbformat_minor": 4
}

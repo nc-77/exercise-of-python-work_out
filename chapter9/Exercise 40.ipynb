{
 "cells": [
  {
   "cell_type": "code",
   "execution_count": 4,
   "metadata": {},
   "outputs": [
    {
     "name": "stdout",
     "output_type": "stream",
     "text": [
      "chocolate\n",
      "vanilla\n",
      "persimmon\n"
     ]
    }
   ],
   "source": [
    "from dataclasses import dataclass,field\n",
    "from typing import List\n",
    "@dataclass\n",
    "class Scoop():\n",
    "    flavor:str\n",
    "@dataclass\n",
    "class Bowl():\n",
    "    max_scoops=3\n",
    "    \n",
    "    scoops:List[Scoop]=field(default_factory=list)\n",
    "    def add_scoops(self,*new_scoops):\n",
    "        for one_scoop in new_scoops:\n",
    "            if len(self.scoops)< Bowl.max_scoops:    \n",
    "                self.scoops.append(one_scoop)\n",
    "    def __repr__(self):\n",
    "        return'\\n'.join(s.flavor for s in self.scoops)\n",
    "s1 = Scoop('chocolate')\n",
    "s2 = Scoop('vanilla')\n",
    "s3 = Scoop('persimmon')\n",
    "s4 = Scoop('flavor4')\n",
    "s5 = Scoop('flavor5')\n",
    "b = Bowl()\n",
    "b.add_scoops(s1,s2)\n",
    "b.add_scoops(s3)\n",
    "b.add_scoops(s4,s5)\n",
    "print(b)"
   ]
  }
 ],
 "metadata": {
  "kernelspec": {
   "display_name": "Python 3",
   "language": "python",
   "name": "python3"
  },
  "language_info": {
   "codemirror_mode": {
    "name": "ipython",
    "version": 3
   },
   "file_extension": ".py",
   "mimetype": "text/x-python",
   "name": "python",
   "nbconvert_exporter": "python",
   "pygments_lexer": "ipython3",
   "version": "3.6.10"
  }
 },
 "nbformat": 4,
 "nbformat_minor": 4
}

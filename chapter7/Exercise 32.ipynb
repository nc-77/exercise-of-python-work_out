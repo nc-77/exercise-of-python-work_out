{
 "cells": [
  {
   "cell_type": "markdown",
   "metadata": {},
   "source": [
    "For this exercise, first create a dict of any size, in which the keys are unique and thevalues are also unique. (A key may appear as a value, or vice versa.) Here’s an example:d = {'a':1,'b':2,'c':3}Turn the dict inside out, such that the keys and the values are reversed."
   ]
  },
  {
   "cell_type": "code",
   "execution_count": 3,
   "metadata": {},
   "outputs": [
    {
     "name": "stdout",
     "output_type": "stream",
     "text": [
      "{1: 'a', 2: 'b', 3: 'c'}\n"
     ]
    }
   ],
   "source": [
    "def flipped_dict(a_dict):\n",
    "    return{value:key\n",
    "           for key,value in a_dict.items()}      \n",
    "print(flipped_dict({'a':1,'b':2,'c':3}))"
   ]
  },
  {
   "cell_type": "markdown",
   "metadata": {},
   "source": [
    "Given a string containing several (space-separated) words, create a dict in whichthe keys are the words, and the values are the number of vowels in each word. Ifthe string is “this is an easy test,” then the resulting dict would be {'this':1,'is':1,'an':1,'easy':2,'test':1}."
   ]
  },
  {
   "cell_type": "code",
   "execution_count": 21,
   "metadata": {},
   "outputs": [
    {
     "data": {
      "text/plain": [
       "{'this': 1, 'is': 1, 'an': 1, 'easy': 2, 'test': 1}"
      ]
     },
     "execution_count": 21,
     "metadata": {},
     "output_type": "execute_result"
    }
   ],
   "source": [
    "def count_vowel_in_word(s):\n",
    "    return {word:sum(word.count(x) for x in 'aeiou')\n",
    "           for word in s.split()}\n",
    "s='this is an easy test'\n",
    "count_vowel_in_word(s)"
   ]
  }
 ],
 "metadata": {
  "kernelspec": {
   "display_name": "Python 3",
   "language": "python",
   "name": "python3"
  },
  "language_info": {
   "codemirror_mode": {
    "name": "ipython",
    "version": 3
   },
   "file_extension": ".py",
   "mimetype": "text/x-python",
   "name": "python",
   "nbconvert_exporter": "python",
   "pygments_lexer": "ipython3",
   "version": "3.6.10"
  }
 },
 "nbformat": 4,
 "nbformat_minor": 4
}

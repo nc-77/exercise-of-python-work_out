{
 "cells": [
  {
   "cell_type": "markdown",
   "metadata": {},
   "source": [
    "In this exercise, we’ll practice doing such unraveling. Write a function that takes alist of lists (just one element deep) and returns a flat, one-dimensional version of thelist. Thus, invokingflatten([[1,2],[3,4]])will return[1,2,3,4]"
   ]
  },
  {
   "cell_type": "code",
   "execution_count": 9,
   "metadata": {},
   "outputs": [
    {
     "name": "stdout",
     "output_type": "stream",
     "text": [
      "[1, 2, 3, 4]\n"
     ]
    }
   ],
   "source": [
    "def flatten(mylist):\n",
    "    return[one_element\n",
    "           for one_sublist in mylist      \n",
    "           for one_element in one_sublist]    \n",
    "print(flatten([[1,2],[3,4]]))"
   ]
  },
  {
   "cell_type": "markdown",
   "metadata": {},
   "source": [
    "Write a version of the flatten function mentioned earlier called flatten_odd_ints. It’ll do the same thing as flatten, but the output will only contain oddintegers.  Inputs  that  are  neither  odd  nor  integers  should  be  excluded.  Inputscontaining  strings  that  could  be  converted  to  integers  should  be  converted;other strings should be excluded."
   ]
  },
  {
   "cell_type": "code",
   "execution_count": 12,
   "metadata": {},
   "outputs": [
    {
     "name": "stdout",
     "output_type": "stream",
     "text": [
      "[1, 3]\n"
     ]
    }
   ],
   "source": [
    "def dev_flatten(mylist):\n",
    "    return[one_element\n",
    "           for one_sublist in mylist      \n",
    "           for one_element in one_sublist\n",
    "          if str(one_element).isdigit() and one_element%2]    \n",
    "print(dev_flatten([[1,2,'abc','a'],[3,4]]))"
   ]
  }
 ],
 "metadata": {
  "kernelspec": {
   "display_name": "Python 3",
   "language": "python",
   "name": "python3"
  },
  "language_info": {
   "codemirror_mode": {
    "name": "ipython",
    "version": 3
   },
   "file_extension": ".py",
   "mimetype": "text/x-python",
   "name": "python",
   "nbconvert_exporter": "python",
   "pygments_lexer": "ipython3",
   "version": "3.6.10"
  }
 },
 "nbformat": 4,
 "nbformat_minor": 4
}

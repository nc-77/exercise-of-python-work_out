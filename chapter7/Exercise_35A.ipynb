{
 "cells": [
  {
   "cell_type": "markdown",
   "metadata": {},
   "source": [
    "This exercise, the result of which you’ll use in the next one, asks that you create adict whose keys are the (lowercase) letters of the English alphabet, and whose valuesare the numbers ranging from 1 to 26. And yes, you could simply type {'a':1,'b':2,'c':3} and so forth, but I’d like you to do this with a dict comprehension."
   ]
  },
  {
   "cell_type": "code",
   "execution_count": 3,
   "metadata": {},
   "outputs": [
    {
     "name": "stdout",
     "output_type": "stream",
     "text": [
      "{'a': 1, 'b': 2, 'c': 3, 'd': 4, 'e': 5, 'f': 6, 'g': 7, 'h': 8, 'i': 9, 'j': 10, 'k': 11, 'l': 12, 'm': 13, 'n': 14, 'o': 15, 'p': 16, 'q': 17, 'r': 18, 's': 19, 't': 20, 'u': 21, 'v': 22, 'w': 23, 'x': 24, 'y': 25, 'z': 26}\n"
     ]
    }
   ],
   "source": [
    "def gematria_dict():\n",
    "    return{chr(96+index):index\n",
    "          for index in range(1,27)}   \n",
    "print(gematria_dict())"
   ]
  },
  {
   "cell_type": "markdown",
   "metadata": {},
   "source": [
    "Many programs’ functionality is modified via configuration files, which are oftenset using name-value pairs. That is, each line of the file contains text in the formof name=value,  where  the =  sign  separates  the  name  from  the  value.  I’ve  pre-pared  one  such  sample  config  file  at http://mng.bz/rryD.  Download  this  file,and then use a dict comprehension to read its contents from disk, turning it intoa dict describing a user’s preferences. Note that all of the values will be strings."
   ]
  },
  {
   "cell_type": "code",
   "execution_count": 6,
   "metadata": {},
   "outputs": [
    {
     "data": {
      "text/plain": [
       "{'a': '1', 'b': '2', 'c': '3', 'd': '/etc/passwd'}"
      ]
     },
     "execution_count": 6,
     "metadata": {},
     "output_type": "execute_result"
    }
   ],
   "source": [
    "def config_dict(filename):\n",
    "    out_dict={}\n",
    "    with open(filename) as f: \n",
    "        for one_line in f: \n",
    "            list_line=one_line.strip().split('=')\n",
    "            out_dict[list_line[0]]=list_line[1]\n",
    "    return out_dict\n",
    "config_dict('config.txt')"
   ]
  }
 ],
 "metadata": {
  "kernelspec": {
   "display_name": "Python 3",
   "language": "python",
   "name": "python3"
  },
  "language_info": {
   "codemirror_mode": {
    "name": "ipython",
    "version": 3
   },
   "file_extension": ".py",
   "mimetype": "text/x-python",
   "name": "python",
   "nbconvert_exporter": "python",
   "pygments_lexer": "ipython3",
   "version": "3.6.10"
  }
 },
 "nbformat": 4,
 "nbformat_minor": 4
}

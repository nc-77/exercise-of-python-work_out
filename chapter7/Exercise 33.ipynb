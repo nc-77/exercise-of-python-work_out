{
 "cells": [
  {
   "cell_type": "markdown",
   "metadata": {},
   "source": [
    "In this exercise, we’re going to create a slight variation on map, one that appliesa  function  to  each  of  the  values  of  a  dict.  The  result  of  invoking  this  function,transform_values, is a new dict whose keys are the same as the input dict, but whosevalues have been transformed by the function"
   ]
  },
  {
   "cell_type": "code",
   "execution_count": 2,
   "metadata": {},
   "outputs": [
    {
     "data": {
      "text/plain": [
       "{'a': 1, 'b': 4, 'c': 9}"
      ]
     },
     "execution_count": 2,
     "metadata": {},
     "output_type": "execute_result"
    }
   ],
   "source": [
    "def transform_values(funciton,a_dict):\n",
    "    return {key:funciton(value)\n",
    "        for key,value in a_dict.items()\n",
    "    }\n",
    "d = {'a':1,'b':2,'c':3}\n",
    "transform_values(lambda x: x*x,d)"
   ]
  },
  {
   "cell_type": "markdown",
   "metadata": {},
   "source": [
    "Write a function that takes a directory name (i.e., a string) as an argument. The function  should  return  a  dict  in  which  the  keys  are  the  names  of  files  in  thatdirectory,  and  the  values  are  the  file  sizes.  You  can  use os.listdir  or glob.glob to get the files, but because only regular files have sizes, you’ll want to fil-ter the results using methods from os.path. To determine the file size, you canuse os.stat or (if you prefer) just check the length of the string resulting from reading the file. "
   ]
  },
  {
   "cell_type": "code",
   "execution_count": 18,
   "metadata": {},
   "outputs": [
    {
     "data": {
      "text/plain": [
       "{'Exercise 28.ipynb': 1874,\n",
       " 'Exercise 29.ipynb': 3225,\n",
       " 'Exercise 30.ipynb': 2158,\n",
       " 'Exercise 31.ipynb': 2282,\n",
       " 'Exercise 32.ipynb': 2110,\n",
       " 'Exercise 33.ipynb': 2700,\n",
       " 't1.txt': 140}"
      ]
     },
     "execution_count": 18,
     "metadata": {},
     "output_type": "execute_result"
    }
   ],
   "source": [
    "from os import path\n",
    "import os\n",
    "def dirfile_size(dirname):\n",
    "    return {filename:os.stat(filename).st_size\n",
    "            for filename in os.listdir(dirname)\n",
    "            if os.path.isfile(filename)\n",
    "    }\n",
    "dirfile_size(os.getcwd())"
   ]
  }
 ],
 "metadata": {
  "kernelspec": {
   "display_name": "Python 3",
   "language": "python",
   "name": "python3"
  },
  "language_info": {
   "codemirror_mode": {
    "name": "ipython",
    "version": 3
   },
   "file_extension": ".py",
   "mimetype": "text/x-python",
   "name": "python",
   "nbconvert_exporter": "python",
   "pygments_lexer": "ipython3",
   "version": "3.6.10"
  }
 },
 "nbformat": 4,
 "nbformat_minor": 4
}

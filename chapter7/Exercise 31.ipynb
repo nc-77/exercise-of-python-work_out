{
 "cells": [
  {
   "cell_type": "markdown",
   "metadata": {},
   "source": [
    " In  this  exercise,  I  want  you  to  write  a  function  that  takes  a  filename  as  an  argu-ment. It returns a string with the file’s contents, but with each word translated into PigLatin, as per our plword function in chapter 2 on “strings.” The returned translationcan  ignore  newlines  and  isn’t  required  to  handle  capitalization  and  punctuation  inany specific way."
   ]
  },
  {
   "cell_type": "code",
   "execution_count": 3,
   "metadata": {},
   "outputs": [],
   "source": [
    "def plword(word):\n",
    "    if word[0]in 'aeiou':\n",
    "        return word+ 'way'\n",
    "    return word[1:]+ word[0]+ 'ay'\n",
    "def plfile(filename):\n",
    "    return ' '.join(plword(word)\n",
    "                   for one_line in open(filename,'r')\n",
    "                   for word in one_line.split())"
   ]
  },
  {
   "cell_type": "markdown",
   "metadata": {},
   "source": [
    "Use a nested list comprehension to transform a list of dicts into a list of two-element (name-value) tuples, each of which represents one of the name-valuepairs in one of the dicts. If more than one dict has the same name-value pair,then the tuple should appear twice."
   ]
  },
  {
   "cell_type": "code",
   "execution_count": 6,
   "metadata": {},
   "outputs": [
    {
     "data": {
      "text/plain": [
       "[('t1', 1), ('t2', 2), ('t3', 3), ('t1', 1), ('t3', 3)]"
      ]
     },
     "execution_count": 6,
     "metadata": {},
     "output_type": "execute_result"
    }
   ],
   "source": [
    "dicts=[{'t1':1,'t2':2},{'t3':3},{'t1':1,'t3':3}]\n",
    "def transform(dicts):\n",
    "    return [(key,value)\n",
    "           for dic in dicts\n",
    "           for key,value in dic.items()]\n",
    "transform(dicts)"
   ]
  }
 ],
 "metadata": {
  "kernelspec": {
   "display_name": "Python 3",
   "language": "python",
   "name": "python3"
  },
  "language_info": {
   "codemirror_mode": {
    "name": "ipython",
    "version": 3
   },
   "file_extension": ".py",
   "mimetype": "text/x-python",
   "name": "python",
   "nbconvert_exporter": "python",
   "pygments_lexer": "ipython3",
   "version": "3.6.10"
  }
 },
 "nbformat": 4,
 "nbformat_minor": 4
}

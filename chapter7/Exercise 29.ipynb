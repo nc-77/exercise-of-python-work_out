{
 "cells": [
  {
   "cell_type": "markdown",
   "metadata": {},
   "source": [
    " This time, we’ll do the opposite—take a sequence of strings, turn them intonumbers,  and  then  sum  them.  But  we’re  going  to  make  it  a  bit  more  complicated,because we’re going to filter out those strings that can’t be turned into integers."
   ]
  },
  {
   "cell_type": "code",
   "execution_count": 3,
   "metadata": {},
   "outputs": [
    {
     "name": "stdout",
     "output_type": "stream",
     "text": [
      "19\n"
     ]
    }
   ],
   "source": [
    "def sum_numbers(numbers):\n",
    "    return sum(int(number)\n",
    "              for number in numbers.split()\n",
    "              if number.isdigit())\n",
    "print(sum_numbers('12 3 a b c 4'))"
   ]
  },
  {
   "cell_type": "markdown",
   "metadata": {},
   "source": [
    "Show  the  lines  of  a  text  file  that  contain  at  least  one  vowel  and  contain  more than 20 characters."
   ]
  },
  {
   "cell_type": "code",
   "execution_count": 37,
   "metadata": {},
   "outputs": [
    {
     "name": "stdout",
     "output_type": "stream",
     "text": [
      "aaaaaaaaaaaaaaaaaaaaaaaaaaaaaaaaaaaaaaaaaaaaaaaaa\n",
      "14324d56w1q32ed14q5e13w4e56qw\n",
      "weq41e35dw14q5e4w32s1 5w45 e31wq35e456w1q 354 651w q321e6\n"
     ]
    }
   ],
   "source": [
    "def judge(line):\n",
    "    if (sum(line.count(x) for x in 'aeiouAEIOU')>1) and len(line)>20:\n",
    "        return True\n",
    "    return False\n",
    "def show_lines(filename):\n",
    "    print(''.join(line for line in open(filename)\n",
    "          if judge(line)).strip())\n",
    "show_lines('t1.txt')"
   ]
  },
  {
   "cell_type": "markdown",
   "metadata": {},
   "source": [
    "Define a list of five dicts. Each dict will have two key-value pairs, name and age,containing  a  person’s  name  and  age  (in  years).  Use  a  list  comprehension  toproduce a list of dicts in which each dict contains three key-value pairs: the orig-inal name, the original age, and a third age_in_months key, containing the per-son’s age in months. However, the output should exclude any of the input dictsrepresenting people over 20 years of age. "
   ]
  },
  {
   "cell_type": "code",
   "execution_count": 39,
   "metadata": {},
   "outputs": [
    {
     "data": {
      "text/plain": [
       "{'mike': [10, 120], 'apple': [18, 216], 'ipad': [15, 180]}"
      ]
     },
     "execution_count": 39,
     "metadata": {},
     "output_type": "execute_result"
    }
   ],
   "source": [
    "people={'mike':10,'john':21,'apple':18,'ipad':15}\n",
    "def make_dic(people):\n",
    "    return {name:[age,age*12]\n",
    "           for name,age in people.items()\n",
    "           if age<=20}\n",
    "make_dic(people)"
   ]
  }
 ],
 "metadata": {
  "kernelspec": {
   "display_name": "Python 3",
   "language": "python",
   "name": "python3"
  },
  "language_info": {
   "codemirror_mode": {
    "name": "ipython",
    "version": 3
   },
   "file_extension": ".py",
   "mimetype": "text/x-python",
   "name": "python",
   "nbconvert_exporter": "python",
   "pygments_lexer": "ipython3",
   "version": "3.6.10"
  }
 },
 "nbformat": 4,
 "nbformat_minor": 4
}

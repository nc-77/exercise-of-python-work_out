{
 "cells": [
  {
   "cell_type": "markdown",
   "metadata": {},
   "source": [
    "As in the exercise, take a list of integers and turn them into strings. However,you’ll  only  want  to  produce  strings  for  integers  between  0  and  10.  Doing  thiswill require understanding the if statement in list comprehensions as well."
   ]
  },
  {
   "cell_type": "code",
   "execution_count": 4,
   "metadata": {},
   "outputs": [
    {
     "data": {
      "text/plain": [
       "'1,2,3,10,4'"
      ]
     },
     "execution_count": 4,
     "metadata": {},
     "output_type": "execute_result"
    }
   ],
   "source": [
    "def join_numbers(numbers):\n",
    "    return ','.join(number\n",
    "                    for number in numbers.split()\n",
    "                   if int(number)in range(11))\n",
    "join_numbers(\"1 2 3 10 12 4 16\")"
   ]
  },
  {
   "cell_type": "markdown",
   "metadata": {},
   "source": [
    "Given  a  list  of  strings  containing  hexadecimal  numbers,  sum  the  numberstogether."
   ]
  },
  {
   "cell_type": "code",
   "execution_count": 7,
   "metadata": {},
   "outputs": [
    {
     "data": {
      "text/plain": [
       "213"
      ]
     },
     "execution_count": 7,
     "metadata": {},
     "output_type": "execute_result"
    }
   ],
   "source": [
    "def sum_numbers(numbers):\n",
    "    return sum(int(str(x),10) for x in numbers)\n",
    "sum_numbers([0x12,0xA1,0x22])"
   ]
  }
 ],
 "metadata": {
  "kernelspec": {
   "display_name": "Python 3",
   "language": "python",
   "name": "python3"
  },
  "language_info": {
   "codemirror_mode": {
    "name": "ipython",
    "version": 3
   },
   "file_extension": ".py",
   "mimetype": "text/x-python",
   "name": "python",
   "nbconvert_exporter": "python",
   "pygments_lexer": "ipython3",
   "version": "3.6.10"
  }
 },
 "nbformat": 4,
 "nbformat_minor": 4
}
